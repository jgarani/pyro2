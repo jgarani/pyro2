{
 "metadata": {
  "name": "",
  "signature": "sha256:786b25c64dc0d9ee121f61c33ecbebd341450da126dab49442c6375b1b722e1d"
 },
 "nbformat": 3,
 "nbformat_minor": 0,
 "worksheets": [
  {
   "cells": [
    {
     "cell_type": "heading",
     "level": 1,
     "metadata": {},
     "source": [
      "Mesh Basics"
     ]
    },
    {
     "cell_type": "raw",
     "metadata": {},
     "source": [
      "this notebook illustrates the basic ways of interacting with the pyro2 mesh module.  We create some data that lives on a grid and show how to fill the ghost cells.  The pretty_print() function shows us that they work as expected."
     ]
    },
    {
     "cell_type": "code",
     "collapsed": false,
     "input": [
      "from __future__ import print_function\n",
      "import numpy as np\n",
      "import mesh.patch as patch"
     ],
     "language": "python",
     "metadata": {},
     "outputs": [],
     "prompt_number": 2
    },
    {
     "cell_type": "raw",
     "metadata": {},
     "source": [
      "create a simple 8x8 grid with 2 ghost cells, then create a dataset that lives on this grid and add a variable named \"a\".  For each variable that lives on the grid, we need to define the boundary conditions -- this is done through the BCObject."
     ]
    },
    {
     "cell_type": "code",
     "collapsed": false,
     "input": [
      "g = patch.Grid2d(8, 8, ng=2)\n",
      "d = patch.CellCenterData2d(g)\n",
      "bc = patch.BCObject(xlb=\"periodic\", xrb=\"periodic\", ylb=\"reflect\", yrb=\"outflow\")\n",
      "d.register_var(\"a\", bc)\n",
      "d.create()"
     ],
     "language": "python",
     "metadata": {},
     "outputs": [],
     "prompt_number": 3
    },
    {
     "cell_type": "code",
     "collapsed": false,
     "input": [
      "print(d)"
     ],
     "language": "python",
     "metadata": {},
     "outputs": [
      {
       "output_type": "stream",
       "stream": "stdout",
       "text": [
        "cc data: nx = 8, ny = 8, ng = 2\n",
        "   nvars = 1\n",
        "   variables: \n",
        "               a: min:    0.0000000000    max:    0.0000000000\n",
        "                  BCs: -x: periodic     +x: periodic     -y: reflect-even +y: outflow     \n",
        "\n"
       ]
      }
     ],
     "prompt_number": 4
    },
    {
     "cell_type": "raw",
     "metadata": {},
     "source": [
      "fill the grid with random data.  get_var() returns an ArrayIndexer object that has methods for accessing views into the data.  Here we use a.v() to get the \"valid\" region, i.e. excluding ghost cells."
     ]
    },
    {
     "cell_type": "code",
     "collapsed": false,
     "input": [
      "a = d.get_var(\"a\")\n",
      "a.v()[:,:] = np.random.rand(g.nx, g.ny)"
     ],
     "language": "python",
     "metadata": {},
     "outputs": [],
     "prompt_number": 5
    },
    {
     "cell_type": "raw",
     "metadata": {},
     "source": [
      "when we pretty_print() the variable, we see the ghost cells colored red.  Note that we just filled the interior above."
     ]
    },
    {
     "cell_type": "code",
     "collapsed": false,
     "input": [
      "a.pretty_print()"
     ],
     "language": "python",
     "metadata": {},
     "outputs": [
      {
       "output_type": "stream",
       "stream": "stdout",
       "text": [
        "\u001b[31m         0\u001b[0m\u001b[31m         0\u001b[0m\u001b[31m         0\u001b[0m\u001b[31m         0\u001b[0m\u001b[31m         0\u001b[0m\u001b[31m         0\u001b[0m\u001b[31m         0\u001b[0m\u001b[31m         0\u001b[0m\u001b[31m         0\u001b[0m\u001b[31m         0\u001b[0m\u001b[31m         0\u001b[0m\u001b[31m         0\u001b[0m \n",
        "\u001b[31m         0\u001b[0m\u001b[31m         0\u001b[0m\u001b[31m         0\u001b[0m\u001b[31m         0\u001b[0m\u001b[31m         0\u001b[0m\u001b[31m         0\u001b[0m\u001b[31m         0\u001b[0m\u001b[31m         0\u001b[0m\u001b[31m         0\u001b[0m\u001b[31m         0\u001b[0m\u001b[31m         0\u001b[0m\u001b[31m         0\u001b[0m \n",
        "\u001b[31m         0\u001b[0m\u001b[31m         0\u001b[0m   0.45537   0.96311   0.96989   0.63088    0.8564   0.74731   0.54862   0.45321\u001b[31m         0\u001b[0m\u001b[31m         0\u001b[0m \n",
        "\u001b[31m         0\u001b[0m\u001b[31m         0\u001b[0m   0.12151   0.20483   0.41754   0.73195  0.082949   0.50568   0.73798   0.95942\u001b[31m         0\u001b[0m\u001b[31m         0\u001b[0m \n",
        "\u001b[31m         0\u001b[0m\u001b[31m         0\u001b[0m   0.40623   0.53748   0.24931    0.8466   0.83373   0.51011  0.037346    0.4652\u001b[31m         0\u001b[0m\u001b[31m         0\u001b[0m \n",
        "\u001b[31m         0\u001b[0m\u001b[31m         0\u001b[0m   0.83589   0.71308   0.54076   0.33524    0.9468   0.19479   0.22241   0.67309\u001b[31m         0\u001b[0m\u001b[31m         0\u001b[0m \n",
        "\u001b[31m         0\u001b[0m\u001b[31m         0\u001b[0m   0.22105   0.98255   0.16507   0.94966   0.79629   0.35407   0.89695   0.97162\u001b[31m         0\u001b[0m\u001b[31m         0\u001b[0m \n",
        "\u001b[31m         0\u001b[0m\u001b[31m         0\u001b[0m   0.79319   0.36163   0.37624 0.0042302   0.94362   0.45352   0.43398   0.98398\u001b[31m         0\u001b[0m\u001b[31m         0\u001b[0m \n",
        "\u001b[31m         0\u001b[0m\u001b[31m         0\u001b[0m   0.29794   0.74852   0.75852   0.73431   0.68209   0.29003  0.056989   0.31032\u001b[31m         0\u001b[0m\u001b[31m         0\u001b[0m \n",
        "\u001b[31m         0\u001b[0m\u001b[31m         0\u001b[0m   0.97521   0.77119  0.029824   0.86485   0.79532   0.27616   0.92368   0.55377\u001b[31m         0\u001b[0m\u001b[31m         0\u001b[0m \n",
        "\u001b[31m         0\u001b[0m\u001b[31m         0\u001b[0m\u001b[31m         0\u001b[0m\u001b[31m         0\u001b[0m\u001b[31m         0\u001b[0m\u001b[31m         0\u001b[0m\u001b[31m         0\u001b[0m\u001b[31m         0\u001b[0m\u001b[31m         0\u001b[0m\u001b[31m         0\u001b[0m\u001b[31m         0\u001b[0m\u001b[31m         0\u001b[0m \n",
        "\u001b[31m         0\u001b[0m\u001b[31m         0\u001b[0m\u001b[31m         0\u001b[0m\u001b[31m         0\u001b[0m\u001b[31m         0\u001b[0m\u001b[31m         0\u001b[0m\u001b[31m         0\u001b[0m\u001b[31m         0\u001b[0m\u001b[31m         0\u001b[0m\u001b[31m         0\u001b[0m\u001b[31m         0\u001b[0m\u001b[31m         0\u001b[0m \n",
        "\n",
        "         ^ y\n",
        "         |\n",
        "         +---> x\n",
        "        \n"
       ]
      }
     ],
     "prompt_number": 6
    },
    {
     "cell_type": "raw",
     "metadata": {},
     "source": [
      "now fill the ghost cells -- notice that the left and right are periodic, the upper is outflow, and the lower is reflect, as specified when we registered the data above."
     ]
    },
    {
     "cell_type": "code",
     "collapsed": false,
     "input": [
      "d.fill_BC(\"a\")\n",
      "a.pretty_print()"
     ],
     "language": "python",
     "metadata": {},
     "outputs": [
      {
       "output_type": "stream",
       "stream": "stdout",
       "text": [
        "\u001b[31m   0.54862\u001b[0m\u001b[31m   0.45321\u001b[0m\u001b[31m   0.45537\u001b[0m\u001b[31m   0.96311\u001b[0m\u001b[31m   0.96989\u001b[0m\u001b[31m   0.63088\u001b[0m\u001b[31m    0.8564\u001b[0m\u001b[31m   0.74731\u001b[0m\u001b[31m   0.54862\u001b[0m\u001b[31m   0.45321\u001b[0m\u001b[31m   0.45537\u001b[0m\u001b[31m   0.96311\u001b[0m \n",
        "\u001b[31m   0.54862\u001b[0m\u001b[31m   0.45321\u001b[0m\u001b[31m   0.45537\u001b[0m\u001b[31m   0.96311\u001b[0m\u001b[31m   0.96989\u001b[0m\u001b[31m   0.63088\u001b[0m\u001b[31m    0.8564\u001b[0m\u001b[31m   0.74731\u001b[0m\u001b[31m   0.54862\u001b[0m\u001b[31m   0.45321\u001b[0m\u001b[31m   0.45537\u001b[0m\u001b[31m   0.96311\u001b[0m \n",
        "\u001b[31m   0.54862\u001b[0m\u001b[31m   0.45321\u001b[0m   0.45537   0.96311   0.96989   0.63088    0.8564   0.74731   0.54862   0.45321\u001b[31m   0.45537\u001b[0m\u001b[31m   0.96311\u001b[0m \n",
        "\u001b[31m   0.73798\u001b[0m\u001b[31m   0.95942\u001b[0m   0.12151   0.20483   0.41754   0.73195  0.082949   0.50568   0.73798   0.95942\u001b[31m   0.12151\u001b[0m\u001b[31m   0.20483\u001b[0m \n",
        "\u001b[31m  0.037346\u001b[0m\u001b[31m    0.4652\u001b[0m   0.40623   0.53748   0.24931    0.8466   0.83373   0.51011  0.037346    0.4652\u001b[31m   0.40623\u001b[0m\u001b[31m   0.53748\u001b[0m \n",
        "\u001b[31m   0.22241\u001b[0m\u001b[31m   0.67309\u001b[0m   0.83589   0.71308   0.54076   0.33524    0.9468   0.19479   0.22241   0.67309\u001b[31m   0.83589\u001b[0m\u001b[31m   0.71308\u001b[0m \n",
        "\u001b[31m   0.89695\u001b[0m\u001b[31m   0.97162\u001b[0m   0.22105   0.98255   0.16507   0.94966   0.79629   0.35407   0.89695   0.97162\u001b[31m   0.22105\u001b[0m\u001b[31m   0.98255\u001b[0m \n",
        "\u001b[31m   0.43398\u001b[0m\u001b[31m   0.98398\u001b[0m   0.79319   0.36163   0.37624 0.0042302   0.94362   0.45352   0.43398   0.98398\u001b[31m   0.79319\u001b[0m\u001b[31m   0.36163\u001b[0m \n",
        "\u001b[31m  0.056989\u001b[0m\u001b[31m   0.31032\u001b[0m   0.29794   0.74852   0.75852   0.73431   0.68209   0.29003  0.056989   0.31032\u001b[31m   0.29794\u001b[0m\u001b[31m   0.74852\u001b[0m \n",
        "\u001b[31m   0.92368\u001b[0m\u001b[31m   0.55377\u001b[0m   0.97521   0.77119  0.029824   0.86485   0.79532   0.27616   0.92368   0.55377\u001b[31m   0.97521\u001b[0m\u001b[31m   0.77119\u001b[0m \n",
        "\u001b[31m   0.92368\u001b[0m\u001b[31m   0.55377\u001b[0m\u001b[31m   0.97521\u001b[0m\u001b[31m   0.77119\u001b[0m\u001b[31m  0.029824\u001b[0m\u001b[31m   0.86485\u001b[0m\u001b[31m   0.79532\u001b[0m\u001b[31m   0.27616\u001b[0m\u001b[31m   0.92368\u001b[0m\u001b[31m   0.55377\u001b[0m\u001b[31m   0.97521\u001b[0m\u001b[31m   0.77119\u001b[0m \n",
        "\u001b[31m  0.056989\u001b[0m\u001b[31m   0.31032\u001b[0m\u001b[31m   0.29794\u001b[0m\u001b[31m   0.74852\u001b[0m\u001b[31m   0.75852\u001b[0m\u001b[31m   0.73431\u001b[0m\u001b[31m   0.68209\u001b[0m\u001b[31m   0.29003\u001b[0m\u001b[31m  0.056989\u001b[0m\u001b[31m   0.31032\u001b[0m\u001b[31m   0.29794\u001b[0m\u001b[31m   0.74852\u001b[0m \n",
        "\n",
        "         ^ y\n",
        "         |\n",
        "         +---> x\n",
        "        \n"
       ]
      }
     ],
     "prompt_number": 7
    },
    {
     "cell_type": "raw",
     "metadata": {},
     "source": [
      "We can find the L2 norm of the data easily"
     ]
    },
    {
     "cell_type": "code",
     "collapsed": false,
     "input": [
      "a.norm()"
     ],
     "language": "python",
     "metadata": {},
     "outputs": [
      {
       "metadata": {},
       "output_type": "pyout",
       "prompt_number": 8,
       "text": [
        "0.64229248373780867"
       ]
      }
     ],
     "prompt_number": 8
    },
    {
     "cell_type": "raw",
     "metadata": {},
     "source": [
      "and the min and max"
     ]
    },
    {
     "cell_type": "code",
     "collapsed": false,
     "input": [
      "print(a.min(), a.max())"
     ],
     "language": "python",
     "metadata": {},
     "outputs": [
      {
       "output_type": "stream",
       "stream": "stdout",
       "text": [
        "0.00423019198396 0.983978408602\n"
       ]
      }
     ],
     "prompt_number": 9
    },
    {
     "cell_type": "heading",
     "level": 2,
     "metadata": {},
     "source": [
      "differencing"
     ]
    },
    {
     "cell_type": "raw",
     "metadata": {},
     "source": [
      "we can use the ip(), jp(), or ipjp() methods to the ArrayIndexer object to do differencing.  Here we initialize a sine wave and then see that we get a cosine for the first derivative (via a centered-difference)"
     ]
    },
    {
     "cell_type": "code",
     "collapsed": false,
     "input": [
      "g = patch.Grid2d(8, 8, ng=2)\n",
      "d = patch.CellCenterData2d(g)\n",
      "bc = patch.BCObject(xlb=\"periodic\", xrb=\"periodic\", ylb=\"periodic\", yrb=\"periodic\")\n",
      "d.register_var(\"a\", bc)\n",
      "d.create()\n",
      "\n",
      "a = d.get_var(\"a\")\n",
      "a.d[:,:] = np.sin(2.0*np.pi*a.g.x2d)\n",
      "d.fill_BC(\"a\")"
     ],
     "language": "python",
     "metadata": {},
     "outputs": [],
     "prompt_number": 18
    },
    {
     "cell_type": "code",
     "collapsed": false,
     "input": [
      "f = d.prolong(\"a\")\n",
      "f.pretty_print()"
     ],
     "language": "python",
     "metadata": {},
     "outputs": [
      {
       "output_type": "stream",
       "stream": "stdout",
       "text": [
        "\u001b[31m         0\u001b[0m\u001b[31m         0\u001b[0m\u001b[31m         0\u001b[0m\u001b[31m         0\u001b[0m\u001b[31m         0\u001b[0m\u001b[31m         0\u001b[0m\u001b[31m         0\u001b[0m\u001b[31m         0\u001b[0m\u001b[31m         0\u001b[0m\u001b[31m         0\u001b[0m\u001b[31m         0\u001b[0m\u001b[31m         0\u001b[0m\u001b[31m         0\u001b[0m\u001b[31m         0\u001b[0m\u001b[31m         0\u001b[0m\u001b[31m         0\u001b[0m\u001b[31m         0\u001b[0m\u001b[31m         0\u001b[0m\u001b[31m         0\u001b[0m\u001b[31m         0\u001b[0m \n",
        "\u001b[31m         0\u001b[0m\u001b[31m         0\u001b[0m\u001b[31m         0\u001b[0m\u001b[31m         0\u001b[0m\u001b[31m         0\u001b[0m\u001b[31m         0\u001b[0m\u001b[31m         0\u001b[0m\u001b[31m         0\u001b[0m\u001b[31m         0\u001b[0m\u001b[31m         0\u001b[0m\u001b[31m         0\u001b[0m\u001b[31m         0\u001b[0m\u001b[31m         0\u001b[0m\u001b[31m         0\u001b[0m\u001b[31m         0\u001b[0m\u001b[31m         0\u001b[0m\u001b[31m         0\u001b[0m\u001b[31m         0\u001b[0m\u001b[31m         0\u001b[0m\u001b[31m         0\u001b[0m \n",
        "\u001b[31m         0\u001b[0m\u001b[31m         0\u001b[0m   0.21936     0.546   0.85623   0.99153   0.99153   0.85623     0.546   0.21936  -0.21936    -0.546  -0.85623  -0.99153  -0.99153  -0.85623    -0.546  -0.21936\u001b[31m         0\u001b[0m\u001b[31m         0\u001b[0m \n",
        "\u001b[31m         0\u001b[0m\u001b[31m         0\u001b[0m   0.21936     0.546   0.85623   0.99153   0.99153   0.85623     0.546   0.21936  -0.21936    -0.546  -0.85623  -0.99153  -0.99153  -0.85623    -0.546  -0.21936\u001b[31m         0\u001b[0m\u001b[31m         0\u001b[0m \n",
        "\u001b[31m         0\u001b[0m\u001b[31m         0\u001b[0m   0.21936     0.546   0.85623   0.99153   0.99153   0.85623     0.546   0.21936  -0.21936    -0.546  -0.85623  -0.99153  -0.99153  -0.85623    -0.546  -0.21936\u001b[31m         0\u001b[0m\u001b[31m         0\u001b[0m \n",
        "\u001b[31m         0\u001b[0m\u001b[31m         0\u001b[0m   0.21936     0.546   0.85623   0.99153   0.99153   0.85623     0.546   0.21936  -0.21936    -0.546  -0.85623  -0.99153  -0.99153  -0.85623    -0.546  -0.21936\u001b[31m         0\u001b[0m\u001b[31m         0\u001b[0m \n",
        "\u001b[31m         0\u001b[0m\u001b[31m         0\u001b[0m   0.21936     0.546   0.85623   0.99153   0.99153   0.85623     0.546   0.21936  -0.21936    -0.546  -0.85623  -0.99153  -0.99153  -0.85623    -0.546  -0.21936\u001b[31m         0\u001b[0m\u001b[31m         0\u001b[0m \n",
        "\u001b[31m         0\u001b[0m\u001b[31m         0\u001b[0m   0.21936     0.546   0.85623   0.99153   0.99153   0.85623     0.546   0.21936  -0.21936    -0.546  -0.85623  -0.99153  -0.99153  -0.85623    -0.546  -0.21936\u001b[31m         0\u001b[0m\u001b[31m         0\u001b[0m \n",
        "\u001b[31m         0\u001b[0m\u001b[31m         0\u001b[0m   0.21936     0.546   0.85623   0.99153   0.99153   0.85623     0.546   0.21936  -0.21936    -0.546  -0.85623  -0.99153  -0.99153  -0.85623    -0.546  -0.21936\u001b[31m         0\u001b[0m\u001b[31m         0\u001b[0m \n",
        "\u001b[31m         0\u001b[0m\u001b[31m         0\u001b[0m   0.21936     0.546   0.85623   0.99153   0.99153   0.85623     0.546   0.21936  -0.21936    -0.546  -0.85623  -0.99153  -0.99153  -0.85623    -0.546  -0.21936\u001b[31m         0\u001b[0m\u001b[31m         0\u001b[0m \n",
        "\u001b[31m         0\u001b[0m\u001b[31m         0\u001b[0m   0.21936     0.546   0.85623   0.99153   0.99153   0.85623     0.546   0.21936  -0.21936    -0.546  -0.85623  -0.99153  -0.99153  -0.85623    -0.546  -0.21936\u001b[31m         0\u001b[0m\u001b[31m         0\u001b[0m \n",
        "\u001b[31m         0\u001b[0m\u001b[31m         0\u001b[0m   0.21936     0.546   0.85623   0.99153   0.99153   0.85623     0.546   0.21936  -0.21936    -0.546  -0.85623  -0.99153  -0.99153  -0.85623    -0.546  -0.21936\u001b[31m         0\u001b[0m\u001b[31m         0\u001b[0m \n",
        "\u001b[31m         0\u001b[0m\u001b[31m         0\u001b[0m   0.21936     0.546   0.85623   0.99153   0.99153   0.85623     0.546   0.21936  -0.21936    -0.546  -0.85623  -0.99153  -0.99153  -0.85623    -0.546  -0.21936\u001b[31m         0\u001b[0m\u001b[31m         0\u001b[0m \n",
        "\u001b[31m         0\u001b[0m\u001b[31m         0\u001b[0m   0.21936     0.546   0.85623   0.99153   0.99153   0.85623     0.546   0.21936  -0.21936    -0.546  -0.85623  -0.99153  -0.99153  -0.85623    -0.546  -0.21936\u001b[31m         0\u001b[0m\u001b[31m         0\u001b[0m \n",
        "\u001b[31m         0\u001b[0m\u001b[31m         0\u001b[0m   0.21936     0.546   0.85623   0.99153   0.99153   0.85623     0.546   0.21936  -0.21936    -0.546  -0.85623  -0.99153  -0.99153  -0.85623    -0.546  -0.21936\u001b[31m         0\u001b[0m\u001b[31m         0\u001b[0m \n",
        "\u001b[31m         0\u001b[0m\u001b[31m         0\u001b[0m   0.21936     0.546   0.85623   0.99153   0.99153   0.85623     0.546   0.21936  -0.21936    -0.546  -0.85623  -0.99153  -0.99153  -0.85623    -0.546  -0.21936\u001b[31m         0\u001b[0m\u001b[31m         0\u001b[0m \n",
        "\u001b[31m         0\u001b[0m\u001b[31m         0\u001b[0m   0.21936     0.546   0.85623   0.99153   0.99153   0.85623     0.546   0.21936  -0.21936    -0.546  -0.85623  -0.99153  -0.99153  -0.85623    -0.546  -0.21936\u001b[31m         0\u001b[0m\u001b[31m         0\u001b[0m \n",
        "\u001b[31m         0\u001b[0m\u001b[31m         0\u001b[0m   0.21936     0.546   0.85623   0.99153   0.99153   0.85623     0.546   0.21936  -0.21936    -0.546  -0.85623  -0.99153  -0.99153  -0.85623    -0.546  -0.21936\u001b[31m         0\u001b[0m\u001b[31m         0\u001b[0m \n",
        "\u001b[31m         0\u001b[0m\u001b[31m         0\u001b[0m\u001b[31m         0\u001b[0m\u001b[31m         0\u001b[0m\u001b[31m         0\u001b[0m\u001b[31m         0\u001b[0m\u001b[31m         0\u001b[0m\u001b[31m         0\u001b[0m\u001b[31m         0\u001b[0m\u001b[31m         0\u001b[0m\u001b[31m         0\u001b[0m\u001b[31m         0\u001b[0m\u001b[31m         0\u001b[0m\u001b[31m         0\u001b[0m\u001b[31m         0\u001b[0m\u001b[31m         0\u001b[0m\u001b[31m         0\u001b[0m\u001b[31m         0\u001b[0m\u001b[31m         0\u001b[0m\u001b[31m         0\u001b[0m \n",
        "\u001b[31m         0\u001b[0m\u001b[31m         0\u001b[0m\u001b[31m         0\u001b[0m\u001b[31m         0\u001b[0m\u001b[31m         0\u001b[0m\u001b[31m         0\u001b[0m\u001b[31m         0\u001b[0m\u001b[31m         0\u001b[0m\u001b[31m         0\u001b[0m\u001b[31m         0\u001b[0m\u001b[31m         0\u001b[0m\u001b[31m         0\u001b[0m\u001b[31m         0\u001b[0m\u001b[31m         0\u001b[0m\u001b[31m         0\u001b[0m\u001b[31m         0\u001b[0m\u001b[31m         0\u001b[0m\u001b[31m         0\u001b[0m\u001b[31m         0\u001b[0m\u001b[31m         0\u001b[0m \n",
        "\n",
        "         ^ y\n",
        "         |\n",
        "         +---> x\n",
        "        \n"
       ]
      }
     ],
     "prompt_number": 21
    },
    {
     "cell_type": "code",
     "collapsed": false,
     "input": [
      "c = f.restrict()"
     ],
     "language": "python",
     "metadata": {},
     "outputs": [
      {
       "ename": "AttributeError",
       "evalue": "'ArrayIndexer' object has no attribute 'restrict'",
       "output_type": "pyerr",
       "traceback": [
        "\u001b[1;31m---------------------------------------------------------------------------\u001b[0m\n\u001b[1;31mAttributeError\u001b[0m                            Traceback (most recent call last)",
        "\u001b[1;32m<ipython-input-23-85d23aad64c5>\u001b[0m in \u001b[0;36m<module>\u001b[1;34m()\u001b[0m\n\u001b[1;32m----> 1\u001b[1;33m \u001b[0mc\u001b[0m \u001b[1;33m=\u001b[0m \u001b[0mf\u001b[0m\u001b[1;33m.\u001b[0m\u001b[0mrestrict\u001b[0m\u001b[1;33m(\u001b[0m\u001b[1;33m)\u001b[0m\u001b[1;33m\u001b[0m\u001b[0m\n\u001b[0m",
        "\u001b[1;31mAttributeError\u001b[0m: 'ArrayIndexer' object has no attribute 'restrict'"
       ]
      }
     ],
     "prompt_number": 23
    },
    {
     "cell_type": "code",
     "collapsed": false,
     "input": [
      "plot(g.x[g.ilo:g.ihi+1], a.d[g.ilo:g.ihi+1,a.g.jc])\n",
      "plot(g.x[g.ilo:g.ihi+1], b.d[g.ilo:g.ihi+1,b.g.jc])\n",
      "print (a.g.dx)"
     ],
     "language": "python",
     "metadata": {},
     "outputs": [
      {
       "output_type": "stream",
       "stream": "stdout",
       "text": [
        "0.03125\n"
       ]
      },
      {
       "metadata": {},
       "output_type": "display_data",
       "png": "[encoded data removed]",
       "text": [
        "<matplotlib.figure.Figure at 0x7ff509554a90>"
       ]
      }
     ],
     "prompt_number": 13
    },
    {
     "cell_type": "heading",
     "level": 2,
     "metadata": {},
     "source": [
      "coarsening and prolonging"
     ]
    },
    {
     "cell_type": "raw",
     "metadata": {},
     "source": [
      "we can get a new ArrayIndexer object on a coarser grid for one of our variables"
     ]
    },
    {
     "cell_type": "code",
     "collapsed": false,
     "input": [
      "c = d.restrict(\"a\")"
     ],
     "language": "python",
     "metadata": {},
     "outputs": [],
     "prompt_number": 14
    },
    {
     "cell_type": "code",
     "collapsed": false,
     "input": [
      "c.pretty_print()"
     ],
     "language": "python",
     "metadata": {},
     "outputs": [
      {
       "output_type": "stream",
       "stream": "stdout",
       "text": [
        "\u001b[31m         0\u001b[0m\u001b[31m         0\u001b[0m\u001b[31m         0\u001b[0m\u001b[31m         0\u001b[0m\u001b[31m         0\u001b[0m\u001b[31m         0\u001b[0m\u001b[31m         0\u001b[0m\u001b[31m         0\u001b[0m\u001b[31m         0\u001b[0m\u001b[31m         0\u001b[0m\u001b[31m         0\u001b[0m\u001b[31m         0\u001b[0m\u001b[31m         0\u001b[0m\u001b[31m         0\u001b[0m\u001b[31m         0\u001b[0m\u001b[31m         0\u001b[0m\u001b[31m         0\u001b[0m\u001b[31m         0\u001b[0m\u001b[31m         0\u001b[0m\u001b[31m         0\u001b[0m \n",
        "\u001b[31m         0\u001b[0m\u001b[31m         0\u001b[0m\u001b[31m         0\u001b[0m\u001b[31m         0\u001b[0m\u001b[31m         0\u001b[0m\u001b[31m         0\u001b[0m\u001b[31m         0\u001b[0m\u001b[31m         0\u001b[0m\u001b[31m         0\u001b[0m\u001b[31m         0\u001b[0m\u001b[31m         0\u001b[0m\u001b[31m         0\u001b[0m\u001b[31m         0\u001b[0m\u001b[31m         0\u001b[0m\u001b[31m         0\u001b[0m\u001b[31m         0\u001b[0m\u001b[31m         0\u001b[0m\u001b[31m         0\u001b[0m\u001b[31m         0\u001b[0m\u001b[31m         0\u001b[0m \n",
        "\u001b[31m         0\u001b[0m\u001b[31m         0\u001b[0m   0.19415    0.5529   0.82747   0.97606   0.97606   0.82747    0.5529   0.19415  -0.19415   -0.5529  -0.82747  -0.97606  -0.97606  -0.82747   -0.5529  -0.19415\u001b[31m         0\u001b[0m\u001b[31m         0\u001b[0m \n",
        "\u001b[31m         0\u001b[0m\u001b[31m         0\u001b[0m   0.19415    0.5529   0.82747   0.97606   0.97606   0.82747    0.5529   0.19415  -0.19415   -0.5529  -0.82747  -0.97606  -0.97606  -0.82747   -0.5529  -0.19415\u001b[31m         0\u001b[0m\u001b[31m         0\u001b[0m \n",
        "\u001b[31m         0\u001b[0m\u001b[31m         0\u001b[0m   0.19415    0.5529   0.82747   0.97606   0.97606   0.82747    0.5529   0.19415  -0.19415   -0.5529  -0.82747  -0.97606  -0.97606  -0.82747   -0.5529  -0.19415\u001b[31m         0\u001b[0m\u001b[31m         0\u001b[0m \n",
        "\u001b[31m         0\u001b[0m\u001b[31m         0\u001b[0m   0.19415    0.5529   0.82747   0.97606   0.97606   0.82747    0.5529   0.19415  -0.19415   -0.5529  -0.82747  -0.97606  -0.97606  -0.82747   -0.5529  -0.19415\u001b[31m         0\u001b[0m\u001b[31m         0\u001b[0m \n",
        "\u001b[31m         0\u001b[0m\u001b[31m         0\u001b[0m   0.19415    0.5529   0.82747   0.97606   0.97606   0.82747    0.5529   0.19415  -0.19415   -0.5529  -0.82747  -0.97606  -0.97606  -0.82747   -0.5529  -0.19415\u001b[31m         0\u001b[0m\u001b[31m         0\u001b[0m \n",
        "\u001b[31m         0\u001b[0m\u001b[31m         0\u001b[0m   0.19415    0.5529   0.82747   0.97606   0.97606   0.82747    0.5529   0.19415  -0.19415   -0.5529  -0.82747  -0.97606  -0.97606  -0.82747   -0.5529  -0.19415\u001b[31m         0\u001b[0m\u001b[31m         0\u001b[0m \n",
        "\u001b[31m         0\u001b[0m\u001b[31m         0\u001b[0m   0.19415    0.5529   0.82747   0.97606   0.97606   0.82747    0.5529   0.19415  -0.19415   -0.5529  -0.82747  -0.97606  -0.97606  -0.82747   -0.5529  -0.19415\u001b[31m         0\u001b[0m\u001b[31m         0\u001b[0m \n",
        "\u001b[31m         0\u001b[0m\u001b[31m         0\u001b[0m   0.19415    0.5529   0.82747   0.97606   0.97606   0.82747    0.5529   0.19415  -0.19415   -0.5529  -0.82747  -0.97606  -0.97606  -0.82747   -0.5529  -0.19415\u001b[31m         0\u001b[0m\u001b[31m         0\u001b[0m \n",
        "\u001b[31m         0\u001b[0m\u001b[31m         0\u001b[0m   0.19415    0.5529   0.82747   0.97606   0.97606   0.82747    0.5529   0.19415  -0.19415   -0.5529  -0.82747  -0.97606  -0.97606  -0.82747   -0.5529  -0.19415\u001b[31m         0\u001b[0m\u001b[31m         0\u001b[0m \n",
        "\u001b[31m         0\u001b[0m\u001b[31m         0\u001b[0m   0.19415    0.5529   0.82747   0.97606   0.97606   0.82747    0.5529   0.19415  -0.19415   -0.5529  -0.82747  -0.97606  -0.97606  -0.82747   -0.5529  -0.19415\u001b[31m         0\u001b[0m\u001b[31m         0\u001b[0m \n",
        "\u001b[31m         0\u001b[0m\u001b[31m         0\u001b[0m   0.19415    0.5529   0.82747   0.97606   0.97606   0.82747    0.5529   0.19415  -0.19415   -0.5529  -0.82747  -0.97606  -0.97606  -0.82747   -0.5529  -0.19415\u001b[31m         0\u001b[0m\u001b[31m         0\u001b[0m \n",
        "\u001b[31m         0\u001b[0m\u001b[31m         0\u001b[0m   0.19415    0.5529   0.82747   0.97606   0.97606   0.82747    0.5529   0.19415  -0.19415   -0.5529  -0.82747  -0.97606  -0.97606  -0.82747   -0.5529  -0.19415\u001b[31m         0\u001b[0m\u001b[31m         0\u001b[0m \n",
        "\u001b[31m         0\u001b[0m\u001b[31m         0\u001b[0m   0.19415    0.5529   0.82747   0.97606   0.97606   0.82747    0.5529   0.19415  -0.19415   -0.5529  -0.82747  -0.97606  -0.97606  -0.82747   -0.5529  -0.19415\u001b[31m         0\u001b[0m\u001b[31m         0\u001b[0m \n",
        "\u001b[31m         0\u001b[0m\u001b[31m         0\u001b[0m   0.19415    0.5529   0.82747   0.97606   0.97606   0.82747    0.5529   0.19415  -0.19415   -0.5529  -0.82747  -0.97606  -0.97606  -0.82747   -0.5529  -0.19415\u001b[31m         0\u001b[0m\u001b[31m         0\u001b[0m \n",
        "\u001b[31m         0\u001b[0m\u001b[31m         0\u001b[0m   0.19415    0.5529   0.82747   0.97606   0.97606   0.82747    0.5529   0.19415  -0.19415   -0.5529  -0.82747  -0.97606  -0.97606  -0.82747   -0.5529  -0.19415\u001b[31m         0\u001b[0m\u001b[31m         0\u001b[0m \n",
        "\u001b[31m         0\u001b[0m\u001b[31m         0\u001b[0m   0.19415    0.5529   0.82747   0.97606   0.97606   0.82747    0.5529   0.19415  -0.19415   -0.5529  -0.82747  -0.97606  -0.97606  -0.82747   -0.5529  -0.19415\u001b[31m         0\u001b[0m\u001b[31m         0\u001b[0m \n",
        "\u001b[31m         0\u001b[0m\u001b[31m         0\u001b[0m\u001b[31m         0\u001b[0m\u001b[31m         0\u001b[0m\u001b[31m         0\u001b[0m\u001b[31m         0\u001b[0m\u001b[31m         0\u001b[0m\u001b[31m         0\u001b[0m\u001b[31m         0\u001b[0m\u001b[31m         0\u001b[0m\u001b[31m         0\u001b[0m\u001b[31m         0\u001b[0m\u001b[31m         0\u001b[0m\u001b[31m         0\u001b[0m\u001b[31m         0\u001b[0m\u001b[31m         0\u001b[0m\u001b[31m         0\u001b[0m\u001b[31m         0\u001b[0m\u001b[31m         0\u001b[0m\u001b[31m         0\u001b[0m \n",
        "\u001b[31m         0\u001b[0m\u001b[31m         0\u001b[0m\u001b[31m         0\u001b[0m\u001b[31m         0\u001b[0m\u001b[31m         0\u001b[0m\u001b[31m         0\u001b[0m\u001b[31m         0\u001b[0m\u001b[31m         0\u001b[0m\u001b[31m         0\u001b[0m\u001b[31m         0\u001b[0m\u001b[31m         0\u001b[0m\u001b[31m         0\u001b[0m\u001b[31m         0\u001b[0m\u001b[31m         0\u001b[0m\u001b[31m         0\u001b[0m\u001b[31m         0\u001b[0m\u001b[31m         0\u001b[0m\u001b[31m         0\u001b[0m\u001b[31m         0\u001b[0m\u001b[31m         0\u001b[0m \n",
        "\n",
        "         ^ y\n",
        "         |\n",
        "         +---> x\n",
        "        \n"
       ]
      }
     ],
     "prompt_number": 15
    },
    {
     "cell_type": "raw",
     "metadata": {},
     "source": [
      "or a finer grid"
     ]
    },
    {
     "cell_type": "code",
     "collapsed": false,
     "input": [
      "f = d.prolong(\"a\")"
     ],
     "language": "python",
     "metadata": {},
     "outputs": [],
     "prompt_number": 16
    },
    {
     "cell_type": "code",
     "collapsed": false,
     "input": [
      "f.pretty_print()"
     ],
     "language": "python",
     "metadata": {},
     "outputs": [
      {
       "output_type": "stream",
       "stream": "stdout",
       "text": [
        "\u001b[31m         0\u001b[0m\u001b[31m         0\u001b[0m\u001b[31m         0\u001b[0m\u001b[31m         0\u001b[0m\u001b[31m         0\u001b[0m\u001b[31m         0\u001b[0m\u001b[31m         0\u001b[0m\u001b[31m         0\u001b[0m\u001b[31m         0\u001b[0m\u001b[31m         0\u001b[0m\u001b[31m         0\u001b[0m\u001b[31m         0\u001b[0m\u001b[31m         0\u001b[0m\u001b[31m         0\u001b[0m\u001b[31m         0\u001b[0m\u001b[31m         0\u001b[0m\u001b[31m         0\u001b[0m\u001b[31m         0\u001b[0m\u001b[31m         0\u001b[0m\u001b[31m         0\u001b[0m\u001b[31m         0\u001b[0m\u001b[31m         0\u001b[0m\u001b[31m         0\u001b[0m\u001b[31m         0\u001b[0m\u001b[31m         0\u001b[0m\u001b[31m         0\u001b[0m\u001b[31m         0\u001b[0m\u001b[31m         0\u001b[0m\u001b[31m         0\u001b[0m\u001b[31m         0\u001b[0m\u001b[31m         0\u001b[0m\u001b[31m         0\u001b[0m\u001b[31m         0\u001b[0m\u001b[31m         0\u001b[0m\u001b[31m         0\u001b[0m\u001b[31m         0\u001b[0m\u001b[31m         0\u001b[0m\u001b[31m         0\u001b[0m\u001b[31m         0\u001b[0m\u001b[31m         0\u001b[0m\u001b[31m         0\u001b[0m\u001b[31m         0\u001b[0m\u001b[31m         0\u001b[0m\u001b[31m         0\u001b[0m\u001b[31m         0\u001b[0m\u001b[31m         0\u001b[0m\u001b[31m         0\u001b[0m\u001b[31m         0\u001b[0m\u001b[31m         0\u001b[0m\u001b[31m         0\u001b[0m\u001b[31m         0\u001b[0m\u001b[31m         0\u001b[0m\u001b[31m         0\u001b[0m\u001b[31m         0\u001b[0m\u001b[31m         0\u001b[0m\u001b[31m         0\u001b[0m\u001b[31m         0\u001b[0m\u001b[31m         0\u001b[0m\u001b[31m         0\u001b[0m\u001b[31m         0\u001b[0m\u001b[31m         0\u001b[0m\u001b[31m         0\u001b[0m\u001b[31m         0\u001b[0m\u001b[31m         0\u001b[0m\u001b[31m         0\u001b[0m\u001b[31m         0\u001b[0m\u001b[31m         0\u001b[0m\u001b[31m         0\u001b[0m \n",
        "\u001b[31m         0\u001b[0m\u001b[31m         0\u001b[0m\u001b[31m         0\u001b[0m\u001b[31m         0\u001b[0m\u001b[31m         0\u001b[0m\u001b[31m         0\u001b[0m\u001b[31m         0\u001b[0m\u001b[31m         0\u001b[0m\u001b[31m         0\u001b[0m\u001b[31m         0\u001b[0m\u001b[31m         0\u001b[0m\u001b[31m         0\u001b[0m\u001b[31m         0\u001b[0m\u001b[31m         0\u001b[0m\u001b[31m         0\u001b[0m\u001b[31m         0\u001b[0m\u001b[31m         0\u001b[0m\u001b[31m         0\u001b[0m\u001b[31m         0\u001b[0m\u001b[31m         0\u001b[0m\u001b[31m         0\u001b[0m\u001b[31m         0\u001b[0m\u001b[31m         0\u001b[0m\u001b[31m         0\u001b[0m\u001b[31m         0\u001b[0m\u001b[31m         0\u001b[0m\u001b[31m         0\u001b[0m\u001b[31m         0\u001b[0m\u001b[31m         0\u001b[0m\u001b[31m         0\u001b[0m\u001b[31m         0\u001b[0m\u001b[31m         0\u001b[0m\u001b[31m         0\u001b[0m\u001b[31m         0\u001b[0m\u001b[31m         0\u001b[0m\u001b[31m         0\u001b[0m\u001b[31m         0\u001b[0m\u001b[31m         0\u001b[0m\u001b[31m         0\u001b[0m\u001b[31m         0\u001b[0m\u001b[31m         0\u001b[0m\u001b[31m         0\u001b[0m\u001b[31m         0\u001b[0m\u001b[31m         0\u001b[0m\u001b[31m         0\u001b[0m\u001b[31m         0\u001b[0m\u001b[31m         0\u001b[0m\u001b[31m         0\u001b[0m\u001b[31m         0\u001b[0m\u001b[31m         0\u001b[0m\u001b[31m         0\u001b[0m\u001b[31m         0\u001b[0m\u001b[31m         0\u001b[0m\u001b[31m         0\u001b[0m\u001b[31m         0\u001b[0m\u001b[31m         0\u001b[0m\u001b[31m         0\u001b[0m\u001b[31m         0\u001b[0m\u001b[31m         0\u001b[0m\u001b[31m         0\u001b[0m\u001b[31m         0\u001b[0m\u001b[31m         0\u001b[0m\u001b[31m         0\u001b[0m\u001b[31m         0\u001b[0m\u001b[31m         0\u001b[0m\u001b[31m         0\u001b[0m\u001b[31m         0\u001b[0m\u001b[31m         0\u001b[0m \n",
        "\u001b[31m         0\u001b[0m\u001b[31m         0\u001b[0m  0.049479   0.14655   0.24361   0.33696   0.42838   0.51441   0.59669   0.67209   0.74207   0.80395   0.85893   0.90491   0.94278    0.9711    0.9904   0.99997   0.99997    0.9904    0.9711   0.94278   0.90491   0.85893   0.80395   0.74207   0.67209   0.59669   0.51441   0.42838   0.33696   0.24361   0.14655  0.049479 -0.049479  -0.14655  -0.24361  -0.33696  -0.42838  -0.51441  -0.59669  -0.67209  -0.74207  -0.80395  -0.85893  -0.90491  -0.94278   -0.9711   -0.9904  -0.99997  -0.99997   -0.9904   -0.9711  -0.94278  -0.90491  -0.85893  -0.80395  -0.74207  -0.67209  -0.59669  -0.51441  -0.42838  -0.33696  -0.24361  -0.14655 -0.049479\u001b[31m         0\u001b[0m\u001b[31m         0\u001b[0m \n",
        "\u001b[31m         0\u001b[0m\u001b[31m         0\u001b[0m  0.049479   0.14655   0.24361   0.33696   0.42838   0.51441   0.59669   0.67209   0.74207   0.80395   0.85893   0.90491   0.94278    0.9711    0.9904   0.99997   0.99997    0.9904    0.9711   0.94278   0.90491   0.85893   0.80395   0.74207   0.67209   0.59669   0.51441   0.42838   0.33696   0.24361   0.14655  0.049479 -0.049479  -0.14655  -0.24361  -0.33696  -0.42838  -0.51441  -0.59669  -0.67209  -0.74207  -0.80395  -0.85893  -0.90491  -0.94278   -0.9711   -0.9904  -0.99997  -0.99997   -0.9904   -0.9711  -0.94278  -0.90491  -0.85893  -0.80395  -0.74207  -0.67209  -0.59669  -0.51441  -0.42838  -0.33696  -0.24361  -0.14655 -0.049479\u001b[31m         0\u001b[0m\u001b[31m         0\u001b[0m \n",
        "\u001b[31m         0\u001b[0m\u001b[31m         0\u001b[0m  0.049479   0.14655   0.24361   0.33696   0.42838   0.51441   0.59669   0.67209   0.74207   0.80395   0.85893   0.90491   0.94278    0.9711    0.9904   0.99997   0.99997    0.9904    0.9711   0.94278   0.90491   0.85893   0.80395   0.74207   0.67209   0.59669   0.51441   0.42838   0.33696   0.24361   0.14655  0.049479 -0.049479  -0.14655  -0.24361  -0.33696  -0.42838  -0.51441  -0.59669  -0.67209  -0.74207  -0.80395  -0.85893  -0.90491  -0.94278   -0.9711   -0.9904  -0.99997  -0.99997   -0.9904   -0.9711  -0.94278  -0.90491  -0.85893  -0.80395  -0.74207  -0.67209  -0.59669  -0.51441  -0.42838  -0.33696  -0.24361  -0.14655 -0.049479\u001b[31m         0\u001b[0m\u001b[31m         0\u001b[0m \n",
        "\u001b[31m         0\u001b[0m\u001b[31m         0\u001b[0m  0.049479   0.14655   0.24361   0.33696   0.42838   0.51441   0.59669   0.67209   0.74207   0.80395   0.85893   0.90491   0.94278    0.9711    0.9904   0.99997   0.99997    0.9904    0.9711   0.94278   0.90491   0.85893   0.80395   0.74207   0.67209   0.59669   0.51441   0.42838   0.33696   0.24361   0.14655  0.049479 -0.049479  -0.14655  -0.24361  -0.33696  -0.42838  -0.51441  -0.59669  -0.67209  -0.74207  -0.80395  -0.85893  -0.90491  -0.94278   -0.9711   -0.9904  -0.99997  -0.99997   -0.9904   -0.9711  -0.94278  -0.90491  -0.85893  -0.80395  -0.74207  -0.67209  -0.59669  -0.51441  -0.42838  -0.33696  -0.24361  -0.14655 -0.049479\u001b[31m         0\u001b[0m\u001b[31m         0\u001b[0m \n",
        "\u001b[31m         0\u001b[0m\u001b[31m         0\u001b[0m  0.049479   0.14655   0.24361   0.33696   0.42838   0.51441   0.59669   0.67209   0.74207   0.80395   0.85893   0.90491   0.94278    0.9711    0.9904   0.99997   0.99997    0.9904    0.9711   0.94278   0.90491   0.85893   0.80395   0.74207   0.67209   0.59669   0.51441   0.42838   0.33696   0.24361   0.14655  0.049479 -0.049479  -0.14655  -0.24361  -0.33696  -0.42838  -0.51441  -0.59669  -0.67209  -0.74207  -0.80395  -0.85893  -0.90491  -0.94278   -0.9711   -0.9904  -0.99997  -0.99997   -0.9904   -0.9711  -0.94278  -0.90491  -0.85893  -0.80395  -0.74207  -0.67209  -0.59669  -0.51441  -0.42838  -0.33696  -0.24361  -0.14655 -0.049479\u001b[31m         0\u001b[0m\u001b[31m         0\u001b[0m \n",
        "\u001b[31m         0\u001b[0m\u001b[31m         0\u001b[0m  0.049479   0.14655   0.24361   0.33696   0.42838   0.51441   0.59669   0.67209   0.74207   0.80395   0.85893   0.90491   0.94278    0.9711    0.9904   0.99997   0.99997    0.9904    0.9711   0.94278   0.90491   0.85893   0.80395   0.74207   0.67209   0.59669   0.51441   0.42838   0.33696   0.24361   0.14655  0.049479 -0.049479  -0.14655  -0.24361  -0.33696  -0.42838  -0.51441  -0.59669  -0.67209  -0.74207  -0.80395  -0.85893  -0.90491  -0.94278   -0.9711   -0.9904  -0.99997  -0.99997   -0.9904   -0.9711  -0.94278  -0.90491  -0.85893  -0.80395  -0.74207  -0.67209  -0.59669  -0.51441  -0.42838  -0.33696  -0.24361  -0.14655 -0.049479\u001b[31m         0\u001b[0m\u001b[31m         0\u001b[0m \n",
        "\u001b[31m         0\u001b[0m\u001b[31m         0\u001b[0m  0.049479   0.14655   0.24361   0.33696   0.42838   0.51441   0.59669   0.67209   0.74207   0.80395   0.85893   0.90491   0.94278    0.9711    0.9904   0.99997   0.99997    0.9904    0.9711   0.94278   0.90491   0.85893   0.80395   0.74207   0.67209   0.59669   0.51441   0.42838   0.33696   0.24361   0.14655  0.049479 -0.049479  -0.14655  -0.24361  -0.33696  -0.42838  -0.51441  -0.59669  -0.67209  -0.74207  -0.80395  -0.85893  -0.90491  -0.94278   -0.9711   -0.9904  -0.99997  -0.99997   -0.9904   -0.9711  -0.94278  -0.90491  -0.85893  -0.80395  -0.74207  -0.67209  -0.59669  -0.51441  -0.42838  -0.33696  -0.24361  -0.14655 -0.049479\u001b[31m         0\u001b[0m\u001b[31m         0\u001b[0m \n",
        "\u001b[31m         0\u001b[0m\u001b[31m         0\u001b[0m  0.049479   0.14655   0.24361   0.33696   0.42838   0.51441   0.59669   0.67209   0.74207   0.80395   0.85893   0.90491   0.94278    0.9711    0.9904   0.99997   0.99997    0.9904    0.9711   0.94278   0.90491   0.85893   0.80395   0.74207   0.67209   0.59669   0.51441   0.42838   0.33696   0.24361   0.14655  0.049479 -0.049479  -0.14655  -0.24361  -0.33696  -0.42838  -0.51441  -0.59669  -0.67209  -0.74207  -0.80395  -0.85893  -0.90491  -0.94278   -0.9711   -0.9904  -0.99997  -0.99997   -0.9904   -0.9711  -0.94278  -0.90491  -0.85893  -0.80395  -0.74207  -0.67209  -0.59669  -0.51441  -0.42838  -0.33696  -0.24361  -0.14655 -0.049479\u001b[31m         0\u001b[0m\u001b[31m         0\u001b[0m \n",
        "\u001b[31m         0\u001b[0m\u001b[31m         0\u001b[0m  0.049479   0.14655   0.24361   0.33696   0.42838   0.51441   0.59669   0.67209   0.74207   0.80395   0.85893   0.90491   0.94278    0.9711    0.9904   0.99997   0.99997    0.9904    0.9711   0.94278   0.90491   0.85893   0.80395   0.74207   0.67209   0.59669   0.51441   0.42838   0.33696   0.24361   0.14655  0.049479 -0.049479  -0.14655  -0.24361  -0.33696  -0.42838  -0.51441  -0.59669  -0.67209  -0.74207  -0.80395  -0.85893  -0.90491  -0.94278   -0.9711   -0.9904  -0.99997  -0.99997   -0.9904   -0.9711  -0.94278  -0.90491  -0.85893  -0.80395  -0.74207  -0.67209  -0.59669  -0.51441  -0.42838  -0.33696  -0.24361  -0.14655 -0.049479\u001b[31m         0\u001b[0m\u001b[31m         0\u001b[0m \n",
        "\u001b[31m         0\u001b[0m\u001b[31m         0\u001b[0m  0.049479   0.14655   0.24361   0.33696   0.42838   0.51441   0.59669   0.67209   0.74207   0.80395   0.85893   0.90491   0.94278    0.9711    0.9904   0.99997   0.99997    0.9904    0.9711   0.94278   0.90491   0.85893   0.80395   0.74207   0.67209   0.59669   0.51441   0.42838   0.33696   0.24361   0.14655  0.049479 -0.049479  -0.14655  -0.24361  -0.33696  -0.42838  -0.51441  -0.59669  -0.67209  -0.74207  -0.80395  -0.85893  -0.90491  -0.94278   -0.9711   -0.9904  -0.99997  -0.99997   -0.9904   -0.9711  -0.94278  -0.90491  -0.85893  -0.80395  -0.74207  -0.67209  -0.59669  -0.51441  -0.42838  -0.33696  -0.24361  -0.14655 -0.049479\u001b[31m         0\u001b[0m\u001b[31m         0\u001b[0m \n",
        "\u001b[31m         0\u001b[0m\u001b[31m         0\u001b[0m  0.049479   0.14655   0.24361   0.33696   0.42838   0.51441   0.59669   0.67209   0.74207   0.80395   0.85893   0.90491   0.94278    0.9711    0.9904   0.99997   0.99997    0.9904    0.9711   0.94278   0.90491   0.85893   0.80395   0.74207   0.67209   0.59669   0.51441   0.42838   0.33696   0.24361   0.14655  0.049479 -0.049479  -0.14655  -0.24361  -0.33696  -0.42838  -0.51441  -0.59669  -0.67209  -0.74207  -0.80395  -0.85893  -0.90491  -0.94278   -0.9711   -0.9904  -0.99997  -0.99997   -0.9904   -0.9711  -0.94278  -0.90491  -0.85893  -0.80395  -0.74207  -0.67209  -0.59669  -0.51441  -0.42838  -0.33696  -0.24361  -0.14655 -0.049479\u001b[31m         0\u001b[0m\u001b[31m         0\u001b[0m \n",
        "\u001b[31m         0\u001b[0m\u001b[31m         0\u001b[0m  0.049479   0.14655   0.24361   0.33696   0.42838   0.51441   0.59669   0.67209   0.74207   0.80395   0.85893   0.90491   0.94278    0.9711    0.9904   0.99997   0.99997    0.9904    0.9711   0.94278   0.90491   0.85893   0.80395   0.74207   0.67209   0.59669   0.51441   0.42838   0.33696   0.24361   0.14655  0.049479 -0.049479  -0.14655  -0.24361  -0.33696  -0.42838  -0.51441  -0.59669  -0.67209  -0.74207  -0.80395  -0.85893  -0.90491  -0.94278   -0.9711   -0.9904  -0.99997  -0.99997   -0.9904   -0.9711  -0.94278  -0.90491  -0.85893  -0.80395  -0.74207  -0.67209  -0.59669  -0.51441  -0.42838  -0.33696  -0.24361  -0.14655 -0.049479\u001b[31m         0\u001b[0m\u001b[31m         0\u001b[0m \n",
        "\u001b[31m         0\u001b[0m\u001b[31m         0\u001b[0m  0.049479   0.14655   0.24361   0.33696   0.42838   0.51441   0.59669   0.67209   0.74207   0.80395   0.85893   0.90491   0.94278    0.9711    0.9904   0.99997   0.99997    0.9904    0.9711   0.94278   0.90491   0.85893   0.80395   0.74207   0.67209   0.59669   0.51441   0.42838   0.33696   0.24361   0.14655  0.049479 -0.049479  -0.14655  -0.24361  -0.33696  -0.42838  -0.51441  -0.59669  -0.67209  -0.74207  -0.80395  -0.85893  -0.90491  -0.94278   -0.9711   -0.9904  -0.99997  -0.99997   -0.9904   -0.9711  -0.94278  -0.90491  -0.85893  -0.80395  -0.74207  -0.67209  -0.59669  -0.51441  -0.42838  -0.33696  -0.24361  -0.14655 -0.049479\u001b[31m         0\u001b[0m\u001b[31m         0\u001b[0m \n",
        "\u001b[31m         0\u001b[0m\u001b[31m         0\u001b[0m  0.049479   0.14655   0.24361   0.33696   0.42838   0.51441   0.59669   0.67209   0.74207   0.80395   0.85893   0.90491   0.94278    0.9711    0.9904   0.99997   0.99997    0.9904    0.9711   0.94278   0.90491   0.85893   0.80395   0.74207   0.67209   0.59669   0.51441   0.42838   0.33696   0.24361   0.14655  0.049479 -0.049479  -0.14655  -0.24361  -0.33696  -0.42838  -0.51441  -0.59669  -0.67209  -0.74207  -0.80395  -0.85893  -0.90491  -0.94278   -0.9711   -0.9904  -0.99997  -0.99997   -0.9904   -0.9711  -0.94278  -0.90491  -0.85893  -0.80395  -0.74207  -0.67209  -0.59669  -0.51441  -0.42838  -0.33696  -0.24361  -0.14655 -0.049479\u001b[31m         0\u001b[0m\u001b[31m         0\u001b[0m \n",
        "\u001b[31m         0\u001b[0m\u001b[31m         0\u001b[0m  0.049479   0.14655   0.24361   0.33696   0.42838   0.51441   0.59669   0.67209   0.74207   0.80395   0.85893   0.90491   0.94278    0.9711    0.9904   0.99997   0.99997    0.9904    0.9711   0.94278   0.90491   0.85893   0.80395   0.74207   0.67209   0.59669   0.51441   0.42838   0.33696   0.24361   0.14655  0.049479 -0.049479  -0.14655  -0.24361  -0.33696  -0.42838  -0.51441  -0.59669  -0.67209  -0.74207  -0.80395  -0.85893  -0.90491  -0.94278   -0.9711   -0.9904  -0.99997  -0.99997   -0.9904   -0.9711  -0.94278  -0.90491  -0.85893  -0.80395  -0.74207  -0.67209  -0.59669  -0.51441  -0.42838  -0.33696  -0.24361  -0.14655 -0.049479\u001b[31m         0\u001b[0m\u001b[31m         0\u001b[0m \n",
        "\u001b[31m         0\u001b[0m\u001b[31m         0\u001b[0m  0.049479   0.14655   0.24361   0.33696   0.42838   0.51441   0.59669   0.67209   0.74207   0.80395   0.85893   0.90491   0.94278    0.9711    0.9904   0.99997   0.99997    0.9904    0.9711   0.94278   0.90491   0.85893   0.80395   0.74207   0.67209   0.59669   0.51441   0.42838   0.33696   0.24361   0.14655  0.049479 -0.049479  -0.14655  -0.24361  -0.33696  -0.42838  -0.51441  -0.59669  -0.67209  -0.74207  -0.80395  -0.85893  -0.90491  -0.94278   -0.9711   -0.9904  -0.99997  -0.99997   -0.9904   -0.9711  -0.94278  -0.90491  -0.85893  -0.80395  -0.74207  -0.67209  -0.59669  -0.51441  -0.42838  -0.33696  -0.24361  -0.14655 -0.049479\u001b[31m         0\u001b[0m\u001b[31m         0\u001b[0m \n",
        "\u001b[31m         0\u001b[0m\u001b[31m         0\u001b[0m  0.049479   0.14655   0.24361   0.33696   0.42838   0.51441   0.59669   0.67209   0.74207   0.80395   0.85893   0.90491   0.94278    0.9711    0.9904   0.99997   0.99997    0.9904    0.9711   0.94278   0.90491   0.85893   0.80395   0.74207   0.67209   0.59669   0.51441   0.42838   0.33696   0.24361   0.14655  0.049479 -0.049479  -0.14655  -0.24361  -0.33696  -0.42838  -0.51441  -0.59669  -0.67209  -0.74207  -0.80395  -0.85893  -0.90491  -0.94278   -0.9711   -0.9904  -0.99997  -0.99997   -0.9904   -0.9711  -0.94278  -0.90491  -0.85893  -0.80395  -0.74207  -0.67209  -0.59669  -0.51441  -0.42838  -0.33696  -0.24361  -0.14655 -0.049479\u001b[31m         0\u001b[0m\u001b[31m         0\u001b[0m \n",
        "\u001b[31m         0\u001b[0m\u001b[31m         0\u001b[0m  0.049479   0.14655   0.24361   0.33696   0.42838   0.51441   0.59669   0.67209   0.74207   0.80395   0.85893   0.90491   0.94278    0.9711    0.9904   0.99997   0.99997    0.9904    0.9711   0.94278   0.90491   0.85893   0.80395   0.74207   0.67209   0.59669   0.51441   0.42838   0.33696   0.24361   0.14655  0.049479 -0.049479  -0.14655  -0.24361  -0.33696  -0.42838  -0.51441  -0.59669  -0.67209  -0.74207  -0.80395  -0.85893  -0.90491  -0.94278   -0.9711   -0.9904  -0.99997  -0.99997   -0.9904   -0.9711  -0.94278  -0.90491  -0.85893  -0.80395  -0.74207  -0.67209  -0.59669  -0.51441  -0.42838  -0.33696  -0.24361  -0.14655 -0.049479\u001b[31m         0\u001b[0m\u001b[31m         0\u001b[0m \n",
        "\u001b[31m         0\u001b[0m\u001b[31m         0\u001b[0m  0.049479   0.14655   0.24361   0.33696   0.42838   0.51441   0.59669   0.67209   0.74207   0.80395   0.85893   0.90491   0.94278    0.9711    0.9904   0.99997   0.99997    0.9904    0.9711   0.94278   0.90491   0.85893   0.80395   0.74207   0.67209   0.59669   0.51441   0.42838   0.33696   0.24361   0.14655  0.049479 -0.049479  -0.14655  -0.24361  -0.33696  -0.42838  -0.51441  -0.59669  -0.67209  -0.74207  -0.80395  -0.85893  -0.90491  -0.94278   -0.9711   -0.9904  -0.99997  -0.99997   -0.9904   -0.9711  -0.94278  -0.90491  -0.85893  -0.80395  -0.74207  -0.67209  -0.59669  -0.51441  -0.42838  -0.33696  -0.24361  -0.14655 -0.049479\u001b[31m         0\u001b[0m\u001b[31m         0\u001b[0m \n",
        "\u001b[31m         0\u001b[0m\u001b[31m         0\u001b[0m  0.049479   0.14655   0.24361   0.33696   0.42838   0.51441   0.59669   0.67209   0.74207   0.80395   0.85893   0.90491   0.94278    0.9711    0.9904   0.99997   0.99997    0.9904    0.9711   0.94278   0.90491   0.85893   0.80395   0.74207   0.67209   0.59669   0.51441   0.42838   0.33696   0.24361   0.14655  0.049479 -0.049479  -0.14655  -0.24361  -0.33696  -0.42838  -0.51441  -0.59669  -0.67209  -0.74207  -0.80395  -0.85893  -0.90491  -0.94278   -0.9711   -0.9904  -0.99997  -0.99997   -0.9904   -0.9711  -0.94278  -0.90491  -0.85893  -0.80395  -0.74207  -0.67209  -0.59669  -0.51441  -0.42838  -0.33696  -0.24361  -0.14655 -0.049479\u001b[31m         0\u001b[0m\u001b[31m         0\u001b[0m \n",
        "\u001b[31m         0\u001b[0m\u001b[31m         0\u001b[0m  0.049479   0.14655   0.24361   0.33696   0.42838   0.51441   0.59669   0.67209   0.74207   0.80395   0.85893   0.90491   0.94278    0.9711    0.9904   0.99997   0.99997    0.9904    0.9711   0.94278   0.90491   0.85893   0.80395   0.74207   0.67209   0.59669   0.51441   0.42838   0.33696   0.24361   0.14655  0.049479 -0.049479  -0.14655  -0.24361  -0.33696  -0.42838  -0.51441  -0.59669  -0.67209  -0.74207  -0.80395  -0.85893  -0.90491  -0.94278   -0.9711   -0.9904  -0.99997  -0.99997   -0.9904   -0.9711  -0.94278  -0.90491  -0.85893  -0.80395  -0.74207  -0.67209  -0.59669  -0.51441  -0.42838  -0.33696  -0.24361  -0.14655 -0.049479\u001b[31m         0\u001b[0m\u001b[31m         0\u001b[0m \n",
        "\u001b[31m         0\u001b[0m\u001b[31m         0\u001b[0m  0.049479   0.14655   0.24361   0.33696   0.42838   0.51441   0.59669   0.67209   0.74207   0.80395   0.85893   0.90491   0.94278    0.9711    0.9904   0.99997   0.99997    0.9904    0.9711   0.94278   0.90491   0.85893   0.80395   0.74207   0.67209   0.59669   0.51441   0.42838   0.33696   0.24361   0.14655  0.049479 -0.049479  -0.14655  -0.24361  -0.33696  -0.42838  -0.51441  -0.59669  -0.67209  -0.74207  -0.80395  -0.85893  -0.90491  -0.94278   -0.9711   -0.9904  -0.99997  -0.99997   -0.9904   -0.9711  -0.94278  -0.90491  -0.85893  -0.80395  -0.74207  -0.67209  -0.59669  -0.51441  -0.42838  -0.33696  -0.24361  -0.14655 -0.049479\u001b[31m         0\u001b[0m\u001b[31m         0\u001b[0m \n",
        "\u001b[31m         0\u001b[0m\u001b[31m         0\u001b[0m  0.049479   0.14655   0.24361   0.33696   0.42838   0.51441   0.59669   0.67209   0.74207   0.80395   0.85893   0.90491   0.94278    0.9711    0.9904   0.99997   0.99997    0.9904    0.9711   0.94278   0.90491   0.85893   0.80395   0.74207   0.67209   0.59669   0.51441   0.42838   0.33696   0.24361   0.14655  0.049479 -0.049479  -0.14655  -0.24361  -0.33696  -0.42838  -0.51441  -0.59669  -0.67209  -0.74207  -0.80395  -0.85893  -0.90491  -0.94278   -0.9711   -0.9904  -0.99997  -0.99997   -0.9904   -0.9711  -0.94278  -0.90491  -0.85893  -0.80395  -0.74207  -0.67209  -0.59669  -0.51441  -0.42838  -0.33696  -0.24361  -0.14655 -0.049479\u001b[31m         0\u001b[0m\u001b[31m         0\u001b[0m \n",
        "\u001b[31m         0\u001b[0m\u001b[31m         0\u001b[0m  0.049479   0.14655   0.24361   0.33696   0.42838   0.51441   0.59669   0.67209   0.74207   0.80395   0.85893   0.90491   0.94278    0.9711    0.9904   0.99997   0.99997    0.9904    0.9711   0.94278   0.90491   0.85893   0.80395   0.74207   0.67209   0.59669   0.51441   0.42838   0.33696   0.24361   0.14655  0.049479 -0.049479  -0.14655  -0.24361  -0.33696  -0.42838  -0.51441  -0.59669  -0.67209  -0.74207  -0.80395  -0.85893  -0.90491  -0.94278   -0.9711   -0.9904  -0.99997  -0.99997   -0.9904   -0.9711  -0.94278  -0.90491  -0.85893  -0.80395  -0.74207  -0.67209  -0.59669  -0.51441  -0.42838  -0.33696  -0.24361  -0.14655 -0.049479\u001b[31m         0\u001b[0m\u001b[31m         0\u001b[0m \n",
        "\u001b[31m         0\u001b[0m\u001b[31m         0\u001b[0m  0.049479   0.14655   0.24361   0.33696   0.42838   0.51441   0.59669   0.67209   0.74207   0.80395   0.85893   0.90491   0.94278    0.9711    0.9904   0.99997   0.99997    0.9904    0.9711   0.94278   0.90491   0.85893   0.80395   0.74207   0.67209   0.59669   0.51441   0.42838   0.33696   0.24361   0.14655  0.049479 -0.049479  -0.14655  -0.24361  -0.33696  -0.42838  -0.51441  -0.59669  -0.67209  -0.74207  -0.80395  -0.85893  -0.90491  -0.94278   -0.9711   -0.9904  -0.99997  -0.99997   -0.9904   -0.9711  -0.94278  -0.90491  -0.85893  -0.80395  -0.74207  -0.67209  -0.59669  -0.51441  -0.42838  -0.33696  -0.24361  -0.14655 -0.049479\u001b[31m         0\u001b[0m\u001b[31m         0\u001b[0m \n",
        "\u001b[31m         0\u001b[0m\u001b[31m         0\u001b[0m  0.049479   0.14655   0.24361   0.33696   0.42838   0.51441   0.59669   0.67209   0.74207   0.80395   0.85893   0.90491   0.94278    0.9711    0.9904   0.99997   0.99997    0.9904    0.9711   0.94278   0.90491   0.85893   0.80395   0.74207   0.67209   0.59669   0.51441   0.42838   0.33696   0.24361   0.14655  0.049479 -0.049479  -0.14655  -0.24361  -0.33696  -0.42838  -0.51441  -0.59669  -0.67209  -0.74207  -0.80395  -0.85893  -0.90491  -0.94278   -0.9711   -0.9904  -0.99997  -0.99997   -0.9904   -0.9711  -0.94278  -0.90491  -0.85893  -0.80395  -0.74207  -0.67209  -0.59669  -0.51441  -0.42838  -0.33696  -0.24361  -0.14655 -0.049479\u001b[31m         0\u001b[0m\u001b[31m         0\u001b[0m \n",
        "\u001b[31m         0\u001b[0m\u001b[31m         0\u001b[0m  0.049479   0.14655   0.24361   0.33696   0.42838   0.51441   0.59669   0.67209   0.74207   0.80395   0.85893   0.90491   0.94278    0.9711    0.9904   0.99997   0.99997    0.9904    0.9711   0.94278   0.90491   0.85893   0.80395   0.74207   0.67209   0.59669   0.51441   0.42838   0.33696   0.24361   0.14655  0.049479 -0.049479  -0.14655  -0.24361  -0.33696  -0.42838  -0.51441  -0.59669  -0.67209  -0.74207  -0.80395  -0.85893  -0.90491  -0.94278   -0.9711   -0.9904  -0.99997  -0.99997   -0.9904   -0.9711  -0.94278  -0.90491  -0.85893  -0.80395  -0.74207  -0.67209  -0.59669  -0.51441  -0.42838  -0.33696  -0.24361  -0.14655 -0.049479\u001b[31m         0\u001b[0m\u001b[31m         0\u001b[0m \n",
        "\u001b[31m         0\u001b[0m\u001b[31m         0\u001b[0m  0.049479   0.14655   0.24361   0.33696   0.42838   0.51441   0.59669   0.67209   0.74207   0.80395   0.85893   0.90491   0.94278    0.9711    0.9904   0.99997   0.99997    0.9904    0.9711   0.94278   0.90491   0.85893   0.80395   0.74207   0.67209   0.59669   0.51441   0.42838   0.33696   0.24361   0.14655  0.049479 -0.049479  -0.14655  -0.24361  -0.33696  -0.42838  -0.51441  -0.59669  -0.67209  -0.74207  -0.80395  -0.85893  -0.90491  -0.94278   -0.9711   -0.9904  -0.99997  -0.99997   -0.9904   -0.9711  -0.94278  -0.90491  -0.85893  -0.80395  -0.74207  -0.67209  -0.59669  -0.51441  -0.42838  -0.33696  -0.24361  -0.14655 -0.049479\u001b[31m         0\u001b[0m\u001b[31m         0\u001b[0m \n",
        "\u001b[31m         0\u001b[0m\u001b[31m         0\u001b[0m  0.049479   0.14655   0.24361   0.33696   0.42838   0.51441   0.59669   0.67209   0.74207   0.80395   0.85893   0.90491   0.94278    0.9711    0.9904   0.99997   0.99997    0.9904    0.9711   0.94278   0.90491   0.85893   0.80395   0.74207   0.67209   0.59669   0.51441   0.42838   0.33696   0.24361   0.14655  0.049479 -0.049479  -0.14655  -0.24361  -0.33696  -0.42838  -0.51441  -0.59669  -0.67209  -0.74207  -0.80395  -0.85893  -0.90491  -0.94278   -0.9711   -0.9904  -0.99997  -0.99997   -0.9904   -0.9711  -0.94278  -0.90491  -0.85893  -0.80395  -0.74207  -0.67209  -0.59669  -0.51441  -0.42838  -0.33696  -0.24361  -0.14655 -0.049479\u001b[31m         0\u001b[0m\u001b[31m         0\u001b[0m \n",
        "\u001b[31m         0\u001b[0m\u001b[31m         0\u001b[0m  0.049479   0.14655   0.24361   0.33696   0.42838   0.51441   0.59669   0.67209   0.74207   0.80395   0.85893   0.90491   0.94278    0.9711    0.9904   0.99997   0.99997    0.9904    0.9711   0.94278   0.90491   0.85893   0.80395   0.74207   0.67209   0.59669   0.51441   0.42838   0.33696   0.24361   0.14655  0.049479 -0.049479  -0.14655  -0.24361  -0.33696  -0.42838  -0.51441  -0.59669  -0.67209  -0.74207  -0.80395  -0.85893  -0.90491  -0.94278   -0.9711   -0.9904  -0.99997  -0.99997   -0.9904   -0.9711  -0.94278  -0.90491  -0.85893  -0.80395  -0.74207  -0.67209  -0.59669  -0.51441  -0.42838  -0.33696  -0.24361  -0.14655 -0.049479\u001b[31m         0\u001b[0m\u001b[31m         0\u001b[0m \n",
        "\u001b[31m         0\u001b[0m\u001b[31m         0\u001b[0m  0.049479   0.14655   0.24361   0.33696   0.42838   0.51441   0.59669   0.67209   0.74207   0.80395   0.85893   0.90491   0.94278    0.9711    0.9904   0.99997   0.99997    0.9904    0.9711   0.94278   0.90491   0.85893   0.80395   0.74207   0.67209   0.59669   0.51441   0.42838   0.33696   0.24361   0.14655  0.049479 -0.049479  -0.14655  -0.24361  -0.33696  -0.42838  -0.51441  -0.59669  -0.67209  -0.74207  -0.80395  -0.85893  -0.90491  -0.94278   -0.9711   -0.9904  -0.99997  -0.99997   -0.9904   -0.9711  -0.94278  -0.90491  -0.85893  -0.80395  -0.74207  -0.67209  -0.59669  -0.51441  -0.42838  -0.33696  -0.24361  -0.14655 -0.049479\u001b[31m         0\u001b[0m\u001b[31m         0\u001b[0m \n",
        "\u001b[31m         0\u001b[0m\u001b[31m         0\u001b[0m  0.049479   0.14655   0.24361   0.33696   0.42838   0.51441   0.59669   0.67209   0.74207   0.80395   0.85893   0.90491   0.94278    0.9711    0.9904   0.99997   0.99997    0.9904    0.9711   0.94278   0.90491   0.85893   0.80395   0.74207   0.67209   0.59669   0.51441   0.42838   0.33696   0.24361   0.14655  0.049479 -0.049479  -0.14655  -0.24361  -0.33696  -0.42838  -0.51441  -0.59669  -0.67209  -0.74207  -0.80395  -0.85893  -0.90491  -0.94278   -0.9711   -0.9904  -0.99997  -0.99997   -0.9904   -0.9711  -0.94278  -0.90491  -0.85893  -0.80395  -0.74207  -0.67209  -0.59669  -0.51441  -0.42838  -0.33696  -0.24361  -0.14655 -0.049479\u001b[31m         0\u001b[0m\u001b[31m         0\u001b[0m \n",
        "\u001b[31m         0\u001b[0m\u001b[31m         0\u001b[0m  0.049479   0.14655   0.24361   0.33696   0.42838   0.51441   0.59669   0.67209   0.74207   0.80395   0.85893   0.90491   0.94278    0.9711    0.9904   0.99997   0.99997    0.9904    0.9711   0.94278   0.90491   0.85893   0.80395   0.74207   0.67209   0.59669   0.51441   0.42838   0.33696   0.24361   0.14655  0.049479 -0.049479  -0.14655  -0.24361  -0.33696  -0.42838  -0.51441  -0.59669  -0.67209  -0.74207  -0.80395  -0.85893  -0.90491  -0.94278   -0.9711   -0.9904  -0.99997  -0.99997   -0.9904   -0.9711  -0.94278  -0.90491  -0.85893  -0.80395  -0.74207  -0.67209  -0.59669  -0.51441  -0.42838  -0.33696  -0.24361  -0.14655 -0.049479\u001b[31m         0\u001b[0m\u001b[31m         0\u001b[0m \n",
        "\u001b[31m         0\u001b[0m\u001b[31m         0\u001b[0m  0.049479   0.14655   0.24361   0.33696   0.42838   0.51441   0.59669   0.67209   0.74207   0.80395   0.85893   0.90491   0.94278    0.9711    0.9904   0.99997   0.99997    0.9904    0.9711   0.94278   0.90491   0.85893   0.80395   0.74207   0.67209   0.59669   0.51441   0.42838   0.33696   0.24361   0.14655  0.049479 -0.049479  -0.14655  -0.24361  -0.33696  -0.42838  -0.51441  -0.59669  -0.67209  -0.74207  -0.80395  -0.85893  -0.90491  -0.94278   -0.9711   -0.9904  -0.99997  -0.99997   -0.9904   -0.9711  -0.94278  -0.90491  -0.85893  -0.80395  -0.74207  -0.67209  -0.59669  -0.51441  -0.42838  -0.33696  -0.24361  -0.14655 -0.049479\u001b[31m         0\u001b[0m\u001b[31m         0\u001b[0m \n",
        "\u001b[31m         0\u001b[0m\u001b[31m         0\u001b[0m  0.049479   0.14655   0.24361   0.33696   0.42838   0.51441   0.59669   0.67209   0.74207   0.80395   0.85893   0.90491   0.94278    0.9711    0.9904   0.99997   0.99997    0.9904    0.9711   0.94278   0.90491   0.85893   0.80395   0.74207   0.67209   0.59669   0.51441   0.42838   0.33696   0.24361   0.14655  0.049479 -0.049479  -0.14655  -0.24361  -0.33696  -0.42838  -0.51441  -0.59669  -0.67209  -0.74207  -0.80395  -0.85893  -0.90491  -0.94278   -0.9711   -0.9904  -0.99997  -0.99997   -0.9904   -0.9711  -0.94278  -0.90491  -0.85893  -0.80395  -0.74207  -0.67209  -0.59669  -0.51441  -0.42838  -0.33696  -0.24361  -0.14655 -0.049479\u001b[31m         0\u001b[0m\u001b[31m         0\u001b[0m \n",
        "\u001b[31m         0\u001b[0m\u001b[31m         0\u001b[0m  0.049479   0.14655   0.24361   0.33696   0.42838   0.51441   0.59669   0.67209   0.74207   0.80395   0.85893   0.90491   0.94278    0.9711    0.9904   0.99997   0.99997    0.9904    0.9711   0.94278   0.90491   0.85893   0.80395   0.74207   0.67209   0.59669   0.51441   0.42838   0.33696   0.24361   0.14655  0.049479 -0.049479  -0.14655  -0.24361  -0.33696  -0.42838  -0.51441  -0.59669  -0.67209  -0.74207  -0.80395  -0.85893  -0.90491  -0.94278   -0.9711   -0.9904  -0.99997  -0.99997   -0.9904   -0.9711  -0.94278  -0.90491  -0.85893  -0.80395  -0.74207  -0.67209  -0.59669  -0.51441  -0.42838  -0.33696  -0.24361  -0.14655 -0.049479\u001b[31m         0\u001b[0m\u001b[31m         0\u001b[0m \n",
        "\u001b[31m         0\u001b[0m\u001b[31m         0\u001b[0m  0.049479   0.14655   0.24361   0.33696   0.42838   0.51441   0.59669   0.67209   0.74207   0.80395   0.85893   0.90491   0.94278    0.9711    0.9904   0.99997   0.99997    0.9904    0.9711   0.94278   0.90491   0.85893   0.80395   0.74207   0.67209   0.59669   0.51441   0.42838   0.33696   0.24361   0.14655  0.049479 -0.049479  -0.14655  -0.24361  -0.33696  -0.42838  -0.51441  -0.59669  -0.67209  -0.74207  -0.80395  -0.85893  -0.90491  -0.94278   -0.9711   -0.9904  -0.99997  -0.99997   -0.9904   -0.9711  -0.94278  -0.90491  -0.85893  -0.80395  -0.74207  -0.67209  -0.59669  -0.51441  -0.42838  -0.33696  -0.24361  -0.14655 -0.049479\u001b[31m         0\u001b[0m\u001b[31m         0\u001b[0m \n",
        "\u001b[31m         0\u001b[0m\u001b[31m         0\u001b[0m  0.049479   0.14655   0.24361   0.33696   0.42838   0.51441   0.59669   0.67209   0.74207   0.80395   0.85893   0.90491   0.94278    0.9711    0.9904   0.99997   0.99997    0.9904    0.9711   0.94278   0.90491   0.85893   0.80395   0.74207   0.67209   0.59669   0.51441   0.42838   0.33696   0.24361   0.14655  0.049479 -0.049479  -0.14655  -0.24361  -0.33696  -0.42838  -0.51441  -0.59669  -0.67209  -0.74207  -0.80395  -0.85893  -0.90491  -0.94278   -0.9711   -0.9904  -0.99997  -0.99997   -0.9904   -0.9711  -0.94278  -0.90491  -0.85893  -0.80395  -0.74207  -0.67209  -0.59669  -0.51441  -0.42838  -0.33696  -0.24361  -0.14655 -0.049479\u001b[31m         0\u001b[0m\u001b[31m         0\u001b[0m \n",
        "\u001b[31m         0\u001b[0m\u001b[31m         0\u001b[0m  0.049479   0.14655   0.24361   0.33696   0.42838   0.51441   0.59669   0.67209   0.74207   0.80395   0.85893   0.90491   0.94278    0.9711    0.9904   0.99997   0.99997    0.9904    0.9711   0.94278   0.90491   0.85893   0.80395   0.74207   0.67209   0.59669   0.51441   0.42838   0.33696   0.24361   0.14655  0.049479 -0.049479  -0.14655  -0.24361  -0.33696  -0.42838  -0.51441  -0.59669  -0.67209  -0.74207  -0.80395  -0.85893  -0.90491  -0.94278   -0.9711   -0.9904  -0.99997  -0.99997   -0.9904   -0.9711  -0.94278  -0.90491  -0.85893  -0.80395  -0.74207  -0.67209  -0.59669  -0.51441  -0.42838  -0.33696  -0.24361  -0.14655 -0.049479\u001b[31m         0\u001b[0m\u001b[31m         0\u001b[0m \n",
        "\u001b[31m         0\u001b[0m\u001b[31m         0\u001b[0m  0.049479   0.14655   0.24361   0.33696   0.42838   0.51441   0.59669   0.67209   0.74207   0.80395   0.85893   0.90491   0.94278    0.9711    0.9904   0.99997   0.99997    0.9904    0.9711   0.94278   0.90491   0.85893   0.80395   0.74207   0.67209   0.59669   0.51441   0.42838   0.33696   0.24361   0.14655  0.049479 -0.049479  -0.14655  -0.24361  -0.33696  -0.42838  -0.51441  -0.59669  -0.67209  -0.74207  -0.80395  -0.85893  -0.90491  -0.94278   -0.9711   -0.9904  -0.99997  -0.99997   -0.9904   -0.9711  -0.94278  -0.90491  -0.85893  -0.80395  -0.74207  -0.67209  -0.59669  -0.51441  -0.42838  -0.33696  -0.24361  -0.14655 -0.049479\u001b[31m         0\u001b[0m\u001b[31m         0\u001b[0m \n",
        "\u001b[31m         0\u001b[0m\u001b[31m         0\u001b[0m  0.049479   0.14655   0.24361   0.33696   0.42838   0.51441   0.59669   0.67209   0.74207   0.80395   0.85893   0.90491   0.94278    0.9711    0.9904   0.99997   0.99997    0.9904    0.9711   0.94278   0.90491   0.85893   0.80395   0.74207   0.67209   0.59669   0.51441   0.42838   0.33696   0.24361   0.14655  0.049479 -0.049479  -0.14655  -0.24361  -0.33696  -0.42838  -0.51441  -0.59669  -0.67209  -0.74207  -0.80395  -0.85893  -0.90491  -0.94278   -0.9711   -0.9904  -0.99997  -0.99997   -0.9904   -0.9711  -0.94278  -0.90491  -0.85893  -0.80395  -0.74207  -0.67209  -0.59669  -0.51441  -0.42838  -0.33696  -0.24361  -0.14655 -0.049479\u001b[31m         0\u001b[0m\u001b[31m         0\u001b[0m \n",
        "\u001b[31m         0\u001b[0m\u001b[31m         0\u001b[0m  0.049479   0.14655   0.24361   0.33696   0.42838   0.51441   0.59669   0.67209   0.74207   0.80395   0.85893   0.90491   0.94278    0.9711    0.9904   0.99997   0.99997    0.9904    0.9711   0.94278   0.90491   0.85893   0.80395   0.74207   0.67209   0.59669   0.51441   0.42838   0.33696   0.24361   0.14655  0.049479 -0.049479  -0.14655  -0.24361  -0.33696  -0.42838  -0.51441  -0.59669  -0.67209  -0.74207  -0.80395  -0.85893  -0.90491  -0.94278   -0.9711   -0.9904  -0.99997  -0.99997   -0.9904   -0.9711  -0.94278  -0.90491  -0.85893  -0.80395  -0.74207  -0.67209  -0.59669  -0.51441  -0.42838  -0.33696  -0.24361  -0.14655 -0.049479\u001b[31m         0\u001b[0m\u001b[31m         0\u001b[0m \n",
        "\u001b[31m         0\u001b[0m\u001b[31m         0\u001b[0m  0.049479   0.14655   0.24361   0.33696   0.42838   0.51441   0.59669   0.67209   0.74207   0.80395   0.85893   0.90491   0.94278    0.9711    0.9904   0.99997   0.99997    0.9904    0.9711   0.94278   0.90491   0.85893   0.80395   0.74207   0.67209   0.59669   0.51441   0.42838   0.33696   0.24361   0.14655  0.049479 -0.049479  -0.14655  -0.24361  -0.33696  -0.42838  -0.51441  -0.59669  -0.67209  -0.74207  -0.80395  -0.85893  -0.90491  -0.94278   -0.9711   -0.9904  -0.99997  -0.99997   -0.9904   -0.9711  -0.94278  -0.90491  -0.85893  -0.80395  -0.74207  -0.67209  -0.59669  -0.51441  -0.42838  -0.33696  -0.24361  -0.14655 -0.049479\u001b[31m         0\u001b[0m\u001b[31m         0\u001b[0m \n",
        "\u001b[31m         0\u001b[0m\u001b[31m         0\u001b[0m  0.049479   0.14655   0.24361   0.33696   0.42838   0.51441   0.59669   0.67209   0.74207   0.80395   0.85893   0.90491   0.94278    0.9711    0.9904   0.99997   0.99997    0.9904    0.9711   0.94278   0.90491   0.85893   0.80395   0.74207   0.67209   0.59669   0.51441   0.42838   0.33696   0.24361   0.14655  0.049479 -0.049479  -0.14655  -0.24361  -0.33696  -0.42838  -0.51441  -0.59669  -0.67209  -0.74207  -0.80395  -0.85893  -0.90491  -0.94278   -0.9711   -0.9904  -0.99997  -0.99997   -0.9904   -0.9711  -0.94278  -0.90491  -0.85893  -0.80395  -0.74207  -0.67209  -0.59669  -0.51441  -0.42838  -0.33696  -0.24361  -0.14655 -0.049479\u001b[31m         0\u001b[0m\u001b[31m         0\u001b[0m \n",
        "\u001b[31m         0\u001b[0m\u001b[31m         0\u001b[0m  0.049479   0.14655   0.24361   0.33696   0.42838   0.51441   0.59669   0.67209   0.74207   0.80395   0.85893   0.90491   0.94278    0.9711    0.9904   0.99997   0.99997    0.9904    0.9711   0.94278   0.90491   0.85893   0.80395   0.74207   0.67209   0.59669   0.51441   0.42838   0.33696   0.24361   0.14655  0.049479 -0.049479  -0.14655  -0.24361  -0.33696  -0.42838  -0.51441  -0.59669  -0.67209  -0.74207  -0.80395  -0.85893  -0.90491  -0.94278   -0.9711   -0.9904  -0.99997  -0.99997   -0.9904   -0.9711  -0.94278  -0.90491  -0.85893  -0.80395  -0.74207  -0.67209  -0.59669  -0.51441  -0.42838  -0.33696  -0.24361  -0.14655 -0.049479\u001b[31m         0\u001b[0m\u001b[31m         0\u001b[0m \n",
        "\u001b[31m         0\u001b[0m\u001b[31m         0\u001b[0m  0.049479   0.14655   0.24361   0.33696   0.42838   0.51441   0.59669   0.67209   0.74207   0.80395   0.85893   0.90491   0.94278    0.9711    0.9904   0.99997   0.99997    0.9904    0.9711   0.94278   0.90491   0.85893   0.80395   0.74207   0.67209   0.59669   0.51441   0.42838   0.33696   0.24361   0.14655  0.049479 -0.049479  -0.14655  -0.24361  -0.33696  -0.42838  -0.51441  -0.59669  -0.67209  -0.74207  -0.80395  -0.85893  -0.90491  -0.94278   -0.9711   -0.9904  -0.99997  -0.99997   -0.9904   -0.9711  -0.94278  -0.90491  -0.85893  -0.80395  -0.74207  -0.67209  -0.59669  -0.51441  -0.42838  -0.33696  -0.24361  -0.14655 -0.049479\u001b[31m         0\u001b[0m\u001b[31m         0\u001b[0m \n",
        "\u001b[31m         0\u001b[0m\u001b[31m         0\u001b[0m  0.049479   0.14655   0.24361   0.33696   0.42838   0.51441   0.59669   0.67209   0.74207   0.80395   0.85893   0.90491   0.94278    0.9711    0.9904   0.99997   0.99997    0.9904    0.9711   0.94278   0.90491   0.85893   0.80395   0.74207   0.67209   0.59669   0.51441   0.42838   0.33696   0.24361   0.14655  0.049479 -0.049479  -0.14655  -0.24361  -0.33696  -0.42838  -0.51441  -0.59669  -0.67209  -0.74207  -0.80395  -0.85893  -0.90491  -0.94278   -0.9711   -0.9904  -0.99997  -0.99997   -0.9904   -0.9711  -0.94278  -0.90491  -0.85893  -0.80395  -0.74207  -0.67209  -0.59669  -0.51441  -0.42838  -0.33696  -0.24361  -0.14655 -0.049479\u001b[31m         0\u001b[0m\u001b[31m         0\u001b[0m \n",
        "\u001b[31m         0\u001b[0m\u001b[31m         0\u001b[0m  0.049479   0.14655   0.24361   0.33696   0.42838   0.51441   0.59669   0.67209   0.74207   0.80395   0.85893   0.90491   0.94278    0.9711    0.9904   0.99997   0.99997    0.9904    0.9711   0.94278   0.90491   0.85893   0.80395   0.74207   0.67209   0.59669   0.51441   0.42838   0.33696   0.24361   0.14655  0.049479 -0.049479  -0.14655  -0.24361  -0.33696  -0.42838  -0.51441  -0.59669  -0.67209  -0.74207  -0.80395  -0.85893  -0.90491  -0.94278   -0.9711   -0.9904  -0.99997  -0.99997   -0.9904   -0.9711  -0.94278  -0.90491  -0.85893  -0.80395  -0.74207  -0.67209  -0.59669  -0.51441  -0.42838  -0.33696  -0.24361  -0.14655 -0.049479\u001b[31m         0\u001b[0m\u001b[31m         0\u001b[0m \n",
        "\u001b[31m         0\u001b[0m\u001b[31m         0\u001b[0m  0.049479   0.14655   0.24361   0.33696   0.42838   0.51441   0.59669   0.67209   0.74207   0.80395   0.85893   0.90491   0.94278    0.9711    0.9904   0.99997   0.99997    0.9904    0.9711   0.94278   0.90491   0.85893   0.80395   0.74207   0.67209   0.59669   0.51441   0.42838   0.33696   0.24361   0.14655  0.049479 -0.049479  -0.14655  -0.24361  -0.33696  -0.42838  -0.51441  -0.59669  -0.67209  -0.74207  -0.80395  -0.85893  -0.90491  -0.94278"
       ]
      },
      {
       "output_type": "stream",
       "stream": "stdout",
       "text": [
        "   -0.9711   -0.9904  -0.99997  -0.99997   -0.9904   -0.9711  -0.94278  -0.90491  -0.85893  -0.80395  -0.74207  -0.67209  -0.59669  -0.51441  -0.42838  -0.33696  -0.24361  -0.14655 -0.049479\u001b[31m         0\u001b[0m\u001b[31m         0\u001b[0m \n",
        "\u001b[31m         0\u001b[0m\u001b[31m         0\u001b[0m  0.049479   0.14655   0.24361   0.33696   0.42838   0.51441   0.59669   0.67209   0.74207   0.80395   0.85893   0.90491   0.94278    0.9711    0.9904   0.99997   0.99997    0.9904    0.9711   0.94278   0.90491   0.85893   0.80395   0.74207   0.67209   0.59669   0.51441   0.42838   0.33696   0.24361   0.14655  0.049479 -0.049479  -0.14655  -0.24361  -0.33696  -0.42838  -0.51441  -0.59669  -0.67209  -0.74207  -0.80395  -0.85893  -0.90491  -0.94278   -0.9711   -0.9904  -0.99997  -0.99997   -0.9904   -0.9711  -0.94278  -0.90491  -0.85893  -0.80395  -0.74207  -0.67209  -0.59669  -0.51441  -0.42838  -0.33696  -0.24361  -0.14655 -0.049479\u001b[31m         0\u001b[0m\u001b[31m         0\u001b[0m \n",
        "\u001b[31m         0\u001b[0m\u001b[31m         0\u001b[0m  0.049479   0.14655   0.24361   0.33696   0.42838   0.51441   0.59669   0.67209   0.74207   0.80395   0.85893   0.90491   0.94278    0.9711    0.9904   0.99997   0.99997    0.9904    0.9711   0.94278   0.90491   0.85893   0.80395   0.74207   0.67209   0.59669   0.51441   0.42838   0.33696   0.24361   0.14655  0.049479 -0.049479  -0.14655  -0.24361  -0.33696  -0.42838  -0.51441  -0.59669  -0.67209  -0.74207  -0.80395  -0.85893  -0.90491  -0.94278   -0.9711   -0.9904  -0.99997  -0.99997   -0.9904   -0.9711  -0.94278  -0.90491  -0.85893  -0.80395  -0.74207  -0.67209  -0.59669  -0.51441  -0.42838  -0.33696  -0.24361  -0.14655 -0.049479\u001b[31m         0\u001b[0m\u001b[31m         0\u001b[0m \n",
        "\u001b[31m         0\u001b[0m\u001b[31m         0\u001b[0m  0.049479   0.14655   0.24361   0.33696   0.42838   0.51441   0.59669   0.67209   0.74207   0.80395   0.85893   0.90491   0.94278    0.9711    0.9904   0.99997   0.99997    0.9904    0.9711   0.94278   0.90491   0.85893   0.80395   0.74207   0.67209   0.59669   0.51441   0.42838   0.33696   0.24361   0.14655  0.049479 -0.049479  -0.14655  -0.24361  -0.33696  -0.42838  -0.51441  -0.59669  -0.67209  -0.74207  -0.80395  -0.85893  -0.90491  -0.94278   -0.9711   -0.9904  -0.99997  -0.99997   -0.9904   -0.9711  -0.94278  -0.90491  -0.85893  -0.80395  -0.74207  -0.67209  -0.59669  -0.51441  -0.42838  -0.33696  -0.24361  -0.14655 -0.049479\u001b[31m         0\u001b[0m\u001b[31m         0\u001b[0m \n",
        "\u001b[31m         0\u001b[0m\u001b[31m         0\u001b[0m  0.049479   0.14655   0.24361   0.33696   0.42838   0.51441   0.59669   0.67209   0.74207   0.80395   0.85893   0.90491   0.94278    0.9711    0.9904   0.99997   0.99997    0.9904    0.9711   0.94278   0.90491   0.85893   0.80395   0.74207   0.67209   0.59669   0.51441   0.42838   0.33696   0.24361   0.14655  0.049479 -0.049479  -0.14655  -0.24361  -0.33696  -0.42838  -0.51441  -0.59669  -0.67209  -0.74207  -0.80395  -0.85893  -0.90491  -0.94278   -0.9711   -0.9904  -0.99997  -0.99997   -0.9904   -0.9711  -0.94278  -0.90491  -0.85893  -0.80395  -0.74207  -0.67209  -0.59669  -0.51441  -0.42838  -0.33696  -0.24361  -0.14655 -0.049479\u001b[31m         0\u001b[0m\u001b[31m         0\u001b[0m \n",
        "\u001b[31m         0\u001b[0m\u001b[31m         0\u001b[0m  0.049479   0.14655   0.24361   0.33696   0.42838   0.51441   0.59669   0.67209   0.74207   0.80395   0.85893   0.90491   0.94278    0.9711    0.9904   0.99997   0.99997    0.9904    0.9711   0.94278   0.90491   0.85893   0.80395   0.74207   0.67209   0.59669   0.51441   0.42838   0.33696   0.24361   0.14655  0.049479 -0.049479  -0.14655  -0.24361  -0.33696  -0.42838  -0.51441  -0.59669  -0.67209  -0.74207  -0.80395  -0.85893  -0.90491  -0.94278   -0.9711   -0.9904  -0.99997  -0.99997   -0.9904   -0.9711  -0.94278  -0.90491  -0.85893  -0.80395  -0.74207  -0.67209  -0.59669  -0.51441  -0.42838  -0.33696  -0.24361  -0.14655 -0.049479\u001b[31m         0\u001b[0m\u001b[31m         0\u001b[0m \n",
        "\u001b[31m         0\u001b[0m\u001b[31m         0\u001b[0m  0.049479   0.14655   0.24361   0.33696   0.42838   0.51441   0.59669   0.67209   0.74207   0.80395   0.85893   0.90491   0.94278    0.9711    0.9904   0.99997   0.99997    0.9904    0.9711   0.94278   0.90491   0.85893   0.80395   0.74207   0.67209   0.59669   0.51441   0.42838   0.33696   0.24361   0.14655  0.049479 -0.049479  -0.14655  -0.24361  -0.33696  -0.42838  -0.51441  -0.59669  -0.67209  -0.74207  -0.80395  -0.85893  -0.90491  -0.94278   -0.9711   -0.9904  -0.99997  -0.99997   -0.9904   -0.9711  -0.94278  -0.90491  -0.85893  -0.80395  -0.74207  -0.67209  -0.59669  -0.51441  -0.42838  -0.33696  -0.24361  -0.14655 -0.049479\u001b[31m         0\u001b[0m\u001b[31m         0\u001b[0m \n",
        "\u001b[31m         0\u001b[0m\u001b[31m         0\u001b[0m  0.049479   0.14655   0.24361   0.33696   0.42838   0.51441   0.59669   0.67209   0.74207   0.80395   0.85893   0.90491   0.94278    0.9711    0.9904   0.99997   0.99997    0.9904    0.9711   0.94278   0.90491   0.85893   0.80395   0.74207   0.67209   0.59669   0.51441   0.42838   0.33696   0.24361   0.14655  0.049479 -0.049479  -0.14655  -0.24361  -0.33696  -0.42838  -0.51441  -0.59669  -0.67209  -0.74207  -0.80395  -0.85893  -0.90491  -0.94278   -0.9711   -0.9904  -0.99997  -0.99997   -0.9904   -0.9711  -0.94278  -0.90491  -0.85893  -0.80395  -0.74207  -0.67209  -0.59669  -0.51441  -0.42838  -0.33696  -0.24361  -0.14655 -0.049479\u001b[31m         0\u001b[0m\u001b[31m         0\u001b[0m \n",
        "\u001b[31m         0\u001b[0m\u001b[31m         0\u001b[0m  0.049479   0.14655   0.24361   0.33696   0.42838   0.51441   0.59669   0.67209   0.74207   0.80395   0.85893   0.90491   0.94278    0.9711    0.9904   0.99997   0.99997    0.9904    0.9711   0.94278   0.90491   0.85893   0.80395   0.74207   0.67209   0.59669   0.51441   0.42838   0.33696   0.24361   0.14655  0.049479 -0.049479  -0.14655  -0.24361  -0.33696  -0.42838  -0.51441  -0.59669  -0.67209  -0.74207  -0.80395  -0.85893  -0.90491  -0.94278   -0.9711   -0.9904  -0.99997  -0.99997   -0.9904   -0.9711  -0.94278  -0.90491  -0.85893  -0.80395  -0.74207  -0.67209  -0.59669  -0.51441  -0.42838  -0.33696  -0.24361  -0.14655 -0.049479\u001b[31m         0\u001b[0m\u001b[31m         0\u001b[0m \n",
        "\u001b[31m         0\u001b[0m\u001b[31m         0\u001b[0m  0.049479   0.14655   0.24361   0.33696   0.42838   0.51441   0.59669   0.67209   0.74207   0.80395   0.85893   0.90491   0.94278    0.9711    0.9904   0.99997   0.99997    0.9904    0.9711   0.94278   0.90491   0.85893   0.80395   0.74207   0.67209   0.59669   0.51441   0.42838   0.33696   0.24361   0.14655  0.049479 -0.049479  -0.14655  -0.24361  -0.33696  -0.42838  -0.51441  -0.59669  -0.67209  -0.74207  -0.80395  -0.85893  -0.90491  -0.94278   -0.9711   -0.9904  -0.99997  -0.99997   -0.9904   -0.9711  -0.94278  -0.90491  -0.85893  -0.80395  -0.74207  -0.67209  -0.59669  -0.51441  -0.42838  -0.33696  -0.24361  -0.14655 -0.049479\u001b[31m         0\u001b[0m\u001b[31m         0\u001b[0m \n",
        "\u001b[31m         0\u001b[0m\u001b[31m         0\u001b[0m  0.049479   0.14655   0.24361   0.33696   0.42838   0.51441   0.59669   0.67209   0.74207   0.80395   0.85893   0.90491   0.94278    0.9711    0.9904   0.99997   0.99997    0.9904    0.9711   0.94278   0.90491   0.85893   0.80395   0.74207   0.67209   0.59669   0.51441   0.42838   0.33696   0.24361   0.14655  0.049479 -0.049479  -0.14655  -0.24361  -0.33696  -0.42838  -0.51441  -0.59669  -0.67209  -0.74207  -0.80395  -0.85893  -0.90491  -0.94278   -0.9711   -0.9904  -0.99997  -0.99997   -0.9904   -0.9711  -0.94278  -0.90491  -0.85893  -0.80395  -0.74207  -0.67209  -0.59669  -0.51441  -0.42838  -0.33696  -0.24361  -0.14655 -0.049479\u001b[31m         0\u001b[0m\u001b[31m         0\u001b[0m \n",
        "\u001b[31m         0\u001b[0m\u001b[31m         0\u001b[0m  0.049479   0.14655   0.24361   0.33696   0.42838   0.51441   0.59669   0.67209   0.74207   0.80395   0.85893   0.90491   0.94278    0.9711    0.9904   0.99997   0.99997    0.9904    0.9711   0.94278   0.90491   0.85893   0.80395   0.74207   0.67209   0.59669   0.51441   0.42838   0.33696   0.24361   0.14655  0.049479 -0.049479  -0.14655  -0.24361  -0.33696  -0.42838  -0.51441  -0.59669  -0.67209  -0.74207  -0.80395  -0.85893  -0.90491  -0.94278   -0.9711   -0.9904  -0.99997  -0.99997   -0.9904   -0.9711  -0.94278  -0.90491  -0.85893  -0.80395  -0.74207  -0.67209  -0.59669  -0.51441  -0.42838  -0.33696  -0.24361  -0.14655 -0.049479\u001b[31m         0\u001b[0m\u001b[31m         0\u001b[0m \n",
        "\u001b[31m         0\u001b[0m\u001b[31m         0\u001b[0m  0.049479   0.14655   0.24361   0.33696   0.42838   0.51441   0.59669   0.67209   0.74207   0.80395   0.85893   0.90491   0.94278    0.9711    0.9904   0.99997   0.99997    0.9904    0.9711   0.94278   0.90491   0.85893   0.80395   0.74207   0.67209   0.59669   0.51441   0.42838   0.33696   0.24361   0.14655  0.049479 -0.049479  -0.14655  -0.24361  -0.33696  -0.42838  -0.51441  -0.59669  -0.67209  -0.74207  -0.80395  -0.85893  -0.90491  -0.94278   -0.9711   -0.9904  -0.99997  -0.99997   -0.9904   -0.9711  -0.94278  -0.90491  -0.85893  -0.80395  -0.74207  -0.67209  -0.59669  -0.51441  -0.42838  -0.33696  -0.24361  -0.14655 -0.049479\u001b[31m         0\u001b[0m\u001b[31m         0\u001b[0m \n",
        "\u001b[31m         0\u001b[0m\u001b[31m         0\u001b[0m  0.049479   0.14655   0.24361   0.33696   0.42838   0.51441   0.59669   0.67209   0.74207   0.80395   0.85893   0.90491   0.94278    0.9711    0.9904   0.99997   0.99997    0.9904    0.9711   0.94278   0.90491   0.85893   0.80395   0.74207   0.67209   0.59669   0.51441   0.42838   0.33696   0.24361   0.14655  0.049479 -0.049479  -0.14655  -0.24361  -0.33696  -0.42838  -0.51441  -0.59669  -0.67209  -0.74207  -0.80395  -0.85893  -0.90491  -0.94278   -0.9711   -0.9904  -0.99997  -0.99997   -0.9904   -0.9711  -0.94278  -0.90491  -0.85893  -0.80395  -0.74207  -0.67209  -0.59669  -0.51441  -0.42838  -0.33696  -0.24361  -0.14655 -0.049479\u001b[31m         0\u001b[0m\u001b[31m         0\u001b[0m \n",
        "\u001b[31m         0\u001b[0m\u001b[31m         0\u001b[0m  0.049479   0.14655   0.24361   0.33696   0.42838   0.51441   0.59669   0.67209   0.74207   0.80395   0.85893   0.90491   0.94278    0.9711    0.9904   0.99997   0.99997    0.9904    0.9711   0.94278   0.90491   0.85893   0.80395   0.74207   0.67209   0.59669   0.51441   0.42838   0.33696   0.24361   0.14655  0.049479 -0.049479  -0.14655  -0.24361  -0.33696  -0.42838  -0.51441  -0.59669  -0.67209  -0.74207  -0.80395  -0.85893  -0.90491  -0.94278   -0.9711   -0.9904  -0.99997  -0.99997   -0.9904   -0.9711  -0.94278  -0.90491  -0.85893  -0.80395  -0.74207  -0.67209  -0.59669  -0.51441  -0.42838  -0.33696  -0.24361  -0.14655 -0.049479\u001b[31m         0\u001b[0m\u001b[31m         0\u001b[0m \n",
        "\u001b[31m         0\u001b[0m\u001b[31m         0\u001b[0m  0.049479   0.14655   0.24361   0.33696   0.42838   0.51441   0.59669   0.67209   0.74207   0.80395   0.85893   0.90491   0.94278    0.9711    0.9904   0.99997   0.99997    0.9904    0.9711   0.94278   0.90491   0.85893   0.80395   0.74207   0.67209   0.59669   0.51441   0.42838   0.33696   0.24361   0.14655  0.049479 -0.049479  -0.14655  -0.24361  -0.33696  -0.42838  -0.51441  -0.59669  -0.67209  -0.74207  -0.80395  -0.85893  -0.90491  -0.94278   -0.9711   -0.9904  -0.99997  -0.99997   -0.9904   -0.9711  -0.94278  -0.90491  -0.85893  -0.80395  -0.74207  -0.67209  -0.59669  -0.51441  -0.42838  -0.33696  -0.24361  -0.14655 -0.049479\u001b[31m         0\u001b[0m\u001b[31m         0\u001b[0m \n",
        "\u001b[31m         0\u001b[0m\u001b[31m         0\u001b[0m\u001b[31m         0\u001b[0m\u001b[31m         0\u001b[0m\u001b[31m         0\u001b[0m\u001b[31m         0\u001b[0m\u001b[31m         0\u001b[0m\u001b[31m         0\u001b[0m\u001b[31m         0\u001b[0m\u001b[31m         0\u001b[0m\u001b[31m         0\u001b[0m\u001b[31m         0\u001b[0m\u001b[31m         0\u001b[0m\u001b[31m         0\u001b[0m\u001b[31m         0\u001b[0m\u001b[31m         0\u001b[0m\u001b[31m         0\u001b[0m\u001b[31m         0\u001b[0m\u001b[31m         0\u001b[0m\u001b[31m         0\u001b[0m\u001b[31m         0\u001b[0m\u001b[31m         0\u001b[0m\u001b[31m         0\u001b[0m\u001b[31m         0\u001b[0m\u001b[31m         0\u001b[0m\u001b[31m         0\u001b[0m\u001b[31m         0\u001b[0m\u001b[31m         0\u001b[0m\u001b[31m         0\u001b[0m\u001b[31m         0\u001b[0m\u001b[31m         0\u001b[0m\u001b[31m         0\u001b[0m\u001b[31m         0\u001b[0m\u001b[31m         0\u001b[0m\u001b[31m         0\u001b[0m\u001b[31m         0\u001b[0m\u001b[31m         0\u001b[0m\u001b[31m         0\u001b[0m\u001b[31m         0\u001b[0m\u001b[31m         0\u001b[0m\u001b[31m         0\u001b[0m\u001b[31m         0\u001b[0m\u001b[31m         0\u001b[0m\u001b[31m         0\u001b[0m\u001b[31m         0\u001b[0m\u001b[31m         0\u001b[0m\u001b[31m         0\u001b[0m\u001b[31m         0\u001b[0m\u001b[31m         0\u001b[0m\u001b[31m         0\u001b[0m\u001b[31m         0\u001b[0m\u001b[31m         0\u001b[0m\u001b[31m         0\u001b[0m\u001b[31m         0\u001b[0m\u001b[31m         0\u001b[0m\u001b[31m         0\u001b[0m\u001b[31m         0\u001b[0m\u001b[31m         0\u001b[0m\u001b[31m         0\u001b[0m\u001b[31m         0\u001b[0m\u001b[31m         0\u001b[0m\u001b[31m         0\u001b[0m\u001b[31m         0\u001b[0m\u001b[31m         0\u001b[0m\u001b[31m         0\u001b[0m\u001b[31m         0\u001b[0m\u001b[31m         0\u001b[0m\u001b[31m         0\u001b[0m \n",
        "\u001b[31m         0\u001b[0m\u001b[31m         0\u001b[0m\u001b[31m         0\u001b[0m\u001b[31m         0\u001b[0m\u001b[31m         0\u001b[0m\u001b[31m         0\u001b[0m\u001b[31m         0\u001b[0m\u001b[31m         0\u001b[0m\u001b[31m         0\u001b[0m\u001b[31m         0\u001b[0m\u001b[31m         0\u001b[0m\u001b[31m         0\u001b[0m\u001b[31m         0\u001b[0m\u001b[31m         0\u001b[0m\u001b[31m         0\u001b[0m\u001b[31m         0\u001b[0m\u001b[31m         0\u001b[0m\u001b[31m         0\u001b[0m\u001b[31m         0\u001b[0m\u001b[31m         0\u001b[0m\u001b[31m         0\u001b[0m\u001b[31m         0\u001b[0m\u001b[31m         0\u001b[0m\u001b[31m         0\u001b[0m\u001b[31m         0\u001b[0m\u001b[31m         0\u001b[0m\u001b[31m         0\u001b[0m\u001b[31m         0\u001b[0m\u001b[31m         0\u001b[0m\u001b[31m         0\u001b[0m\u001b[31m         0\u001b[0m\u001b[31m         0\u001b[0m\u001b[31m         0\u001b[0m\u001b[31m         0\u001b[0m\u001b[31m         0\u001b[0m\u001b[31m         0\u001b[0m\u001b[31m         0\u001b[0m\u001b[31m         0\u001b[0m\u001b[31m         0\u001b[0m\u001b[31m         0\u001b[0m\u001b[31m         0\u001b[0m\u001b[31m         0\u001b[0m\u001b[31m         0\u001b[0m\u001b[31m         0\u001b[0m\u001b[31m         0\u001b[0m\u001b[31m         0\u001b[0m\u001b[31m         0\u001b[0m\u001b[31m         0\u001b[0m\u001b[31m         0\u001b[0m\u001b[31m         0\u001b[0m\u001b[31m         0\u001b[0m\u001b[31m         0\u001b[0m\u001b[31m         0\u001b[0m\u001b[31m         0\u001b[0m\u001b[31m         0\u001b[0m\u001b[31m         0\u001b[0m\u001b[31m         0\u001b[0m\u001b[31m         0\u001b[0m\u001b[31m         0\u001b[0m\u001b[31m         0\u001b[0m\u001b[31m         0\u001b[0m\u001b[31m         0\u001b[0m\u001b[31m         0\u001b[0m\u001b[31m         0\u001b[0m\u001b[31m         0\u001b[0m\u001b[31m         0\u001b[0m\u001b[31m         0\u001b[0m\u001b[31m         0\u001b[0m \n",
        "\n",
        "         ^ y\n",
        "         |\n",
        "         +---> x\n",
        "        \n"
       ]
      }
     ],
     "prompt_number": 17
    },
    {
     "cell_type": "code",
     "collapsed": false,
     "input": [],
     "language": "python",
     "metadata": {},
     "outputs": [],
     "prompt_number": 17
    },
    {
     "cell_type": "code",
     "collapsed": false,
     "input": [],
     "language": "python",
     "metadata": {},
     "outputs": []
    }
   ],
   "metadata": {}
  }
 ]
}